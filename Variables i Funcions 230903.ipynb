{
 "cells": [
  {
   "cell_type": "markdown",
   "metadata": {},
   "source": [
    "# Exercici: variables i funcions"
   ]
  },
  {
   "cell_type": "markdown",
   "metadata": {},
   "source": [
    "L'ús de print() imprimirà qualsevol cosa\n",
    "entre els paràntesis al teu termianl.\n",
    "Canvia la frase que s'imprimeix a continuació,\n",
    "deseu i, a continuació, executeu l'script per veure els vostres canvis.\n",
    "Després de confirmar que funciona, comenta-ho."
   ]
  },
  {
   "cell_type": "code",
   "execution_count": 32,
   "metadata": {
    "scrolled": false
   },
   "outputs": [
    {
     "name": "stdout",
     "output_type": "stream",
     "text": [
      "bona tarda companyes!\n"
     ]
    }
   ],
   "source": [
    "print('bona tarda companyes!')"
   ]
  },
  {
   "cell_type": "markdown",
   "metadata": {},
   "source": [
    "## Variables"
   ]
  },
  {
   "cell_type": "markdown",
   "metadata": {},
   "source": [
    "\n",
    "#### 1)\n",
    "\n",
    "Utilitzant la línia print() de sota,\n",
    "a continuació, imprimiu el número 10, utilitzant els operadors\n",
    "(+) i (*).\n",
    "Multiplica i suma qualsevol combinació de nombres\n",
    "junts per obtenir el número 10.\n"
   ]
  },
  {
   "cell_type": "code",
   "execution_count": 1,
   "metadata": {},
   "outputs": [
    {
     "name": "stdout",
     "output_type": "stream",
     "text": [
      "10\n"
     ]
    }
   ],
   "source": [
    "print(6*1+4)"
   ]
  },
  {
   "cell_type": "markdown",
   "metadata": {},
   "source": [
    "#### 2)\n",
    "print s'utilitza sovint per com debugger.\n",
    "De fet, podeu afegir múltiples\n",
    "arguments dins del print (que són\n",
    "separats per una coma). Afegiu-ho tot\n",
    "a continuació per imprimir:\n",
    "\n",
    "\n",
    "3 + 4, \"hauria de ser igual a 7\"\n"
   ]
  },
  {
   "cell_type": "code",
   "execution_count": 2,
   "metadata": {},
   "outputs": [
    {
     "name": "stdout",
     "output_type": "stream",
     "text": [
      "7 deberia ser igual a 7\n"
     ]
    }
   ],
   "source": [
    "print(3+4, 'deberia ser igual a 7')"
   ]
  },
  {
   "cell_type": "markdown",
   "metadata": {},
   "source": [
    "#### 3)\n",
    "\n",
    "Afegiu dues strings juntes per\n",
    "imprimir el vostre nom i cognom!"
   ]
  },
  {
   "cell_type": "code",
   "execution_count": 29,
   "metadata": {},
   "outputs": [
    {
     "data": {
      "text/plain": [
       "'Flor Romero'"
      ]
     },
     "execution_count": 29,
     "metadata": {},
     "output_type": "execute_result"
    }
   ],
   "source": [
    "'Flor'+' '+'Romero'"
   ]
  },
  {
   "cell_type": "markdown",
   "metadata": {},
   "source": [
    "#### 4)\n",
    "Using modulo to get the remainder of\n",
    "a number divided by 2 will tell you whether a\n",
    "number is even or odd. Try it below!"
   ]
  },
  {
   "cell_type": "code",
   "execution_count": 18,
   "metadata": {},
   "outputs": [
    {
     "data": {
      "text/plain": [
       "0"
      ]
     },
     "execution_count": 18,
     "metadata": {},
     "output_type": "execute_result"
    }
   ],
   "source": [
    "70%2"
   ]
  },
  {
   "cell_type": "markdown",
   "metadata": {},
   "source": [
    "\n",
    "#### 5)\n",
    "Canvieu la ubicació de la Mia reassignant la variable ubicacio_actual\n",
    "amb una nova string! Per fer-ho, tindreu\n",
    "que afegir una nova línia de codi (no n'elimineu cap linia\n",
    "de codi escrit). Nota: també hauràs de deixar de comentar\n",
    "la impressió per imprimir la ubicació."
   ]
  },
  {
   "cell_type": "code",
   "execution_count": 10,
   "metadata": {},
   "outputs": [
    {
     "name": "stdout",
     "output_type": "stream",
     "text": [
      "gimnasio\n"
     ]
    }
   ],
   "source": [
    "nom = 'Mia'\n",
    "ubicacio_actual = 'school'\n",
    "ubicacio_actual = 'gimnasio'\n",
    "print(ubicacio_actual)"
   ]
  },
  {
   "cell_type": "markdown",
   "metadata": {},
   "source": [
    "\n",
    "#### 6)\n",
    "Creeu variables perquè el missatge s'imprimeixi\n",
    "a la pantalla!\n"
   ]
  },
  {
   "cell_type": "code",
   "execution_count": 14,
   "metadata": {},
   "outputs": [
    {
     "name": "stdout",
     "output_type": "stream",
     "text": [
      "persona va anar al place a menjar food\n"
     ]
    }
   ],
   "source": [
    "print('Claudia', 'va anar al', 'cine', 'a menjar', 'crispetas')"
   ]
  },
  {
   "cell_type": "markdown",
   "metadata": {},
   "source": [
    "\n",
    "#### 7)\n",
    "Ara, reassigneu totes les variables anteriors de manera que\n",
    "s'imprimeix un missatge nou a la pantalla!\n"
   ]
  },
  {
   "cell_type": "code",
   "execution_count": 15,
   "metadata": {},
   "outputs": [
    {
     "name": "stdout",
     "output_type": "stream",
     "text": [
      "Luis va anar al Diagonal a menjar sushi\n"
     ]
    }
   ],
   "source": [
    "print('Luis', 'va anar al', 'Diagonal', 'a menjar', 'sushi')"
   ]
  },
  {
   "cell_type": "markdown",
   "metadata": {},
   "source": [
    "#### 8)\n",
    "Hi ha dues maneres d'augmentar\n",
    "nombre emmagatzemat a la variable 'compte'.\n",
    "Quina és la resposta per executar les 4 línies següents?\n",
    "Pista: cerca què fa += si no està clar!"
   ]
  },
  {
   "cell_type": "code",
   "execution_count": 46,
   "metadata": {},
   "outputs": [
    {
     "name": "stdout",
     "output_type": "stream",
     "text": [
      "0\n",
      "1\n",
      "2\n",
      "4\n"
     ]
    }
   ],
   "source": [
    "count = 0\n",
    "print(count)\n",
    "count = count + 1\n",
    "print(count)\n",
    "count += 1\n",
    "print(count)\n",
    "count += count\n",
    "print(count)"
   ]
  },
  {
   "cell_type": "markdown",
   "metadata": {},
   "source": [
    "\n",
    "#### 9)\n",
    "Intercanvi de temps! Al següent codi, volem intercanviar\n",
    "els valors s'emmagatzemen tant a 'a' com a 'b'.\n",
    "Aquest codi escrit a continuació no funciona. Per dur a terme\n",
    "aquesta tasca, haureu de crear-ne una variable addicional\n",
    "(podeu anomenar-la 'temp') per emmagatzemar-la\n",
    "\"a\" o \"b\" mentre intercanvieu. Dibuixa-ho si\n",
    "no estàs segur!\n"
   ]
  },
  {
   "cell_type": "code",
   "execution_count": 22,
   "metadata": {},
   "outputs": [],
   "source": [
    "a = 1\n",
    "b = 2"
   ]
  },
  {
   "cell_type": "code",
   "execution_count": 23,
   "metadata": {},
   "outputs": [
    {
     "name": "stdout",
     "output_type": "stream",
     "text": [
      "ABANS > es: 1 - i b es:  2\n"
     ]
    }
   ],
   "source": [
    "print('ABANS > es:', a, '- i b es: ', b)\n"
   ]
  },
  {
   "cell_type": "code",
   "execution_count": 47,
   "metadata": {},
   "outputs": [],
   "source": [
    "temp = a\n",
    "a = 2\n",
    "b = temp"
   ]
  },
  {
   "cell_type": "code",
   "execution_count": 48,
   "metadata": {},
   "outputs": [
    {
     "name": "stdout",
     "output_type": "stream",
     "text": [
      "DESPRES > a: 2 ha de ser 2 - i b: 2 ha de ser 1\n"
     ]
    }
   ],
   "source": [
    "print('DESPRES > a:', a, 'ha de ser 2 - i b:', b, 'ha de ser 1')"
   ]
  },
  {
   "cell_type": "markdown",
   "metadata": {},
   "source": [
    "#### 10)\n",
    "Què avaluarà això?\n",
    "Intenta fer que s'avaluï com a cert.\n",
    "Intenta fer-ho de diverses maneres!\n",
    "(suggeriment: proveu d'\"emetre\" el número\n",
    "a un string, o viceversa!)"
   ]
  },
  {
   "cell_type": "code",
   "execution_count": 27,
   "metadata": {},
   "outputs": [
    {
     "name": "stdout",
     "output_type": "stream",
     "text": [
      "True should be True\n"
     ]
    }
   ],
   "source": [
    "print(str(3) == '3', 'should be True')"
   ]
  },
  {
   "cell_type": "markdown",
   "metadata": {},
   "source": [
    "## Functions"
   ]
  },
  {
   "cell_type": "markdown",
   "metadata": {},
   "source": [
    "\n",
    "\n",
    "#### 1)\n",
    "Creeu una funció anomenada\n",
    "\"triple\" que agafa un\n",
    "paràmetre x i retorns\n",
    "el valor de x multiplicat\n",
    "per tres.\n"
   ]
  },
  {
   "cell_type": "code",
   "execution_count": 44,
   "metadata": {},
   "outputs": [
    {
     "name": "stdout",
     "output_type": "stream",
     "text": [
      "12\n"
     ]
    }
   ],
   "source": [
    "def triple(x):\n",
    "    return x*3\n",
    "\n",
    "x=4\n",
    "result = triple(x)\n",
    "print(result)\n"
   ]
  },
  {
   "cell_type": "markdown",
   "metadata": {},
   "source": [
    "\n",
    "\n",
    "\n",
    "#### 2)\n",
    "Creeu una funció anomenada \"resta\" això\n",
    "agafa dos paràmetres i retorna el resultat de\n",
    "el segon valor restat del primer.\n"
   ]
  },
  {
   "cell_type": "code",
   "execution_count": 43,
   "metadata": {},
   "outputs": [
    {
     "name": "stdout",
     "output_type": "stream",
     "text": [
      "-2\n"
     ]
    }
   ],
   "source": [
    "def resta(a,b):\n",
    "    return a-b\n",
    "\n",
    "result = resta(4,6)\n",
    "print(result)\n"
   ]
  },
  {
   "cell_type": "markdown",
   "metadata": {},
   "source": [
    "\n",
    "\n",
    "\n",
    "\n",
    "#### 3)\n",
    "Creeu una funció anomenada \"resta_segura\" que\n",
    "agafa dos paràmetres i retorna el resultat de\n",
    "el segon valor restat del primer.\n",
    "Si no es poden restar els valors, retorna None.\n"
   ]
  },
  {
   "cell_type": "code",
   "execution_count": 50,
   "metadata": {},
   "outputs": [
    {
     "ename": "TypeError",
     "evalue": "unsupported operand type(s) for -: 'int' and 'str'",
     "output_type": "error",
     "traceback": [
      "\u001b[1;31m---------------------------------------------------------------------------\u001b[0m",
      "\u001b[1;31mTypeError\u001b[0m                                 Traceback (most recent call last)",
      "\u001b[1;32m~\\AppData\\Local\\Temp\\ipykernel_11232\\301100827.py\u001b[0m in \u001b[0;36m<module>\u001b[1;34m\u001b[0m\n\u001b[0;32m      6\u001b[0m \u001b[0ma\u001b[0m \u001b[1;33m=\u001b[0m \u001b[1;36m24\u001b[0m\u001b[1;33m\u001b[0m\u001b[1;33m\u001b[0m\u001b[0m\n\u001b[0;32m      7\u001b[0m \u001b[0mb\u001b[0m \u001b[1;33m=\u001b[0m \u001b[1;34m'hola'\u001b[0m\u001b[1;33m\u001b[0m\u001b[1;33m\u001b[0m\u001b[0m\n\u001b[1;32m----> 8\u001b[1;33m \u001b[0mresult\u001b[0m \u001b[1;33m=\u001b[0m \u001b[0mresta_segura\u001b[0m\u001b[1;33m(\u001b[0m\u001b[0ma\u001b[0m\u001b[1;33m,\u001b[0m\u001b[0mb\u001b[0m\u001b[1;33m)\u001b[0m\u001b[1;33m\u001b[0m\u001b[1;33m\u001b[0m\u001b[0m\n\u001b[0m\u001b[0;32m      9\u001b[0m \u001b[0mprint\u001b[0m\u001b[1;33m(\u001b[0m\u001b[0mresult\u001b[0m\u001b[1;33m)\u001b[0m\u001b[1;33m\u001b[0m\u001b[1;33m\u001b[0m\u001b[0m\n\u001b[0;32m     10\u001b[0m \u001b[1;33m\u001b[0m\u001b[0m\n",
      "\u001b[1;32m~\\AppData\\Local\\Temp\\ipykernel_11232\\301100827.py\u001b[0m in \u001b[0;36mresta_segura\u001b[1;34m(a, b)\u001b[0m\n\u001b[0;32m      1\u001b[0m \u001b[1;32mdef\u001b[0m \u001b[0mresta_segura\u001b[0m\u001b[1;33m(\u001b[0m\u001b[0ma\u001b[0m\u001b[1;33m,\u001b[0m\u001b[0mb\u001b[0m\u001b[1;33m)\u001b[0m\u001b[1;33m:\u001b[0m\u001b[1;33m\u001b[0m\u001b[1;33m\u001b[0m\u001b[0m\n\u001b[1;32m----> 2\u001b[1;33m     \u001b[1;32mif\u001b[0m \u001b[1;33m(\u001b[0m\u001b[0ma\u001b[0m\u001b[1;33m-\u001b[0m\u001b[0mb\u001b[0m\u001b[1;33m)\u001b[0m\u001b[1;33m:\u001b[0m\u001b[1;33m\u001b[0m\u001b[1;33m\u001b[0m\u001b[0m\n\u001b[0m\u001b[0;32m      3\u001b[0m         \u001b[0ma\u001b[0m\u001b[1;33m-\u001b[0m\u001b[0mb\u001b[0m\u001b[1;33m\u001b[0m\u001b[1;33m\u001b[0m\u001b[0m\n\u001b[0;32m      4\u001b[0m     \u001b[1;32melse\u001b[0m\u001b[1;33m:\u001b[0m\u001b[1;33m\u001b[0m\u001b[1;33m\u001b[0m\u001b[0m\n\u001b[0;32m      5\u001b[0m         \u001b[1;32mNone\u001b[0m\u001b[1;33m\u001b[0m\u001b[1;33m\u001b[0m\u001b[0m\n",
      "\u001b[1;31mTypeError\u001b[0m: unsupported operand type(s) for -: 'int' and 'str'"
     ]
    }
   ],
   "source": [
    "def resta_segura(a,b):\n",
    "    if not isintance(a, (int, float)) or not isinstance(b, (int, float()):\n",
    "        raise TypeError('Les dues variables han de ser nombres!')\n",
    "    return a-b\n",
    "                                                        \n",
    "a = 24\n",
    "b = 'hola'\n",
    "result = resta_segura(a,b)\n",
    "print(result)\n",
    "    "
   ]
  },
  {
   "cell_type": "markdown",
   "metadata": {},
   "source": [
    "#### 4)\n",
    "Create a function named \"greet_person\". It should\n",
    "accept a string as an argument and return that\n",
    "string as part of a longer sentence that says hello:\n",
    "i.e. \"Sophia\" --> \"Hello, Sophia!\"\n",
    "If the function is called with an argument that is\n",
    "not a string, it should return \"Please provide a name.\"\n",
    "i.e. 5 --> \"Please provide a name.\"\n",
    "\n",
    "Creeu una funció anomenada \"saluda_persona\". Hauria\n",
    "accepta una cadena com a argument i retorna-la\n",
    "cadena com a part d'una frase més llarga que diu hola:\n",
    "és a dir, \"Sophia\" --> \"Hola, Sophia!\"\n",
    "Si la funció es crida amb un argument que és\n",
    "no és una cadena, hauria de retornar \"Si us plau, proporcioneu un nom\".\n",
    "és a dir, 5 --> \"Si us plau, proporcioneu un nom\"."
   ]
  },
  {
   "cell_type": "code",
   "execution_count": null,
   "metadata": {},
   "outputs": [],
   "source": [
    "def: greet_person"
   ]
  }
 ],
 "metadata": {
  "kernelspec": {
   "display_name": "Python 3 (ipykernel)",
   "language": "python",
   "name": "python3"
  },
  "language_info": {
   "codemirror_mode": {
    "name": "ipython",
    "version": 3
   },
   "file_extension": ".py",
   "mimetype": "text/x-python",
   "name": "python",
   "nbconvert_exporter": "python",
   "pygments_lexer": "ipython3",
   "version": "3.9.13"
  }
 },
 "nbformat": 4,
 "nbformat_minor": 4
}
