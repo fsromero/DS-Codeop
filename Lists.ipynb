{
 "cells": [
  {
   "cell_type": "markdown",
   "metadata": {
    "id": "NoPqsYwe7F66"
   },
   "source": [
    "# Lists"
   ]
  },
  {
   "cell_type": "markdown",
   "metadata": {
    "id": "qt6r7E267F6-"
   },
   "source": [
    "## Llistes els conceptes bàsics"
   ]
  },
  {
   "cell_type": "markdown",
   "metadata": {
    "id": "8X4mdjBl7F6-"
   },
   "source": [
    "Una llista és una col·lecció d'elements.\n",
    "\n",
    "Els elements d'una llista estan *ordenats*. Com que estan ordenats, podeu accedir a cadascun dels elements d'una llista mitjançant un índex, igual que podeu accedir als caràcters d'una cadena.\n",
    "\n",
    "A Python, les llistes es poden reconèixer pel fet que inclouen els seus elements entre claudàtors (`[]`). Podeu obtenir el nombre d'elements d'una llista utilitzant la funció `len()`. Podeu utilitzar un bucle `for` per recórrer els elements d'una llista. Podeu barrejar tipus de dades en una llista. Podeu aplicar les funcions `max()`, `min()` i `sum()` a una llista. Podeu provar l'existència d'un element en una llista mitjançant l'operador `in` (o la inexistència utilitzant `not in`)."
   ]
  },
  {
   "cell_type": "code",
   "execution_count": null,
   "metadata": {
    "colab": {
     "base_uri": "https://localhost:8080/"
    },
    "id": "pLrXKNpb7F6_",
    "outputId": "2ea0685b-3eec-487c-db40-dbb5e1a73b84"
   },
   "outputs": [
    {
     "name": "stdout",
     "output_type": "stream",
     "text": [
      "5\n",
      "apple\n",
      "banana\n",
      "cherry\n",
      "27\n",
      "3.14\n",
      "cherry\n",
      "\n",
      "999\n",
      "129\n",
      "2645\n",
      "False\n",
      "True\n"
     ]
    },
    {
     "data": {
      "text/plain": [
       "True"
      ]
     },
     "execution_count": 2,
     "metadata": {},
     "output_type": "execute_result"
    }
   ],
   "source": [
    "fruitlist = [\"apple\", \"banana\", \"cherry\", 27, 3.14]\n",
    "\n",
    "print( len( fruitlist ) )\n",
    "\n",
    "for element in fruitlist:\n",
    "    print( element )\n",
    "print( fruitlist[2] )\n",
    "\n",
    "print() # remember; print() results in an empty line, and comments explain your code\n",
    "\n",
    "numlist = [314, 315, 642, 246, 129, 999]\n",
    "print( max( numlist ) )\n",
    "print( min( numlist ) )\n",
    "print( sum( numlist ) )\n",
    "print( 100 in numlist )\n",
    "print( 999 in numlist )\n",
    "\n",
    "\n",
    "list_a = [\"abcs\", \"10\", \"@\", \" \"]\n",
    "\" \" in list_a"
   ]
  },
  {
   "cell_type": "markdown",
   "metadata": {
    "id": "mKLc-zdQ7F7A"
   },
   "source": [
    "**Exercici**: escriu un bucle `while` per imprimir els elements d'una llista."
   ]
  },
  {
   "cell_type": "code",
   "execution_count": null,
   "metadata": {
    "id": "A2DTQ_d47F7B",
    "outputId": "dbe4e69c-c580-47d3-aa63-fe891cddb7d3"
   },
   "outputs": [
    {
     "name": "stdout",
     "output_type": "stream",
     "text": [
      "apple\n",
      "banana\n",
      "cherry \n",
      "durian\n",
      "orange\n"
     ]
    }
   ],
   "source": [
    "# Traversing a list using while.\n",
    "fruitlist = [\"apple\", \"banana\", \"cherry \", \"durian\", \"orange\"]\n"
   ]
  },
  {
   "cell_type": "markdown",
   "metadata": {
    "id": "CGHmFNtJ7F7B"
   },
   "source": [
    "---"
   ]
  },
  {
   "cell_type": "markdown",
   "metadata": {
    "id": "55Sh3saY7F7C"
   },
   "source": [
    "## Les llistes són mutables"
   ]
  },
  {
   "cell_type": "markdown",
   "metadata": {
    "id": "pUPZbUGR7F7C"
   },
   "source": [
    "Com que les llistes són mutables, podeu canviar el contingut d'una llista.\n",
    "\n",
    "Per sobreescriure un element d'una llista, podeu assignar-li un valor nou."
   ]
  },
  {
   "cell_type": "code",
   "execution_count": null,
   "metadata": {
    "id": "TdR_bPRL7F7C",
    "outputId": "5b61f850-fbc9-48e8-a491-f216230dabdc"
   },
   "outputs": [
    {
     "name": "stdout",
     "output_type": "stream",
     "text": [
      "['apple', 'banana', 'cherry', 'durian', 'orange']\n",
      "['apple', 'banana', 'strawberry', 'durian', 'orange']\n"
     ]
    }
   ],
   "source": [
    "fruitlist = [\"apple\", \"banana\", \"cherry\", \"durian\", \"orange\"]\n",
    "print( fruitlist )\n",
    "fruitlist[2] = \"strawberry\"\n",
    "print( fruitlist )"
   ]
  },
  {
   "cell_type": "markdown",
   "metadata": {
    "id": "-Cj3hy4V7F7C"
   },
   "source": [
    "També podeu sobreescriure els sectors de la llista assignant una llista nova al sector. No cal que la porció que elimineu tingui la mateixa longitud que la llista nova que inseriu."
   ]
  },
  {
   "cell_type": "code",
   "execution_count": null,
   "metadata": {
    "colab": {
     "base_uri": "https://localhost:8080/"
    },
    "id": "uy6A_OUC7F7D",
    "outputId": "bd0003c1-43a0-44bb-c61b-71c352cb84f2"
   },
   "outputs": [
    {
     "name": "stdout",
     "output_type": "stream",
     "text": [
      "['apple', 'banana', 'cherry', 'durian', 'orange']\n",
      "['apple', 'raspberry', 'elderberry', 'strawberry', 'blueberry', 'durian', 'orange']\n"
     ]
    }
   ],
   "source": [
    "fruitlist = [\"apple\", \"banana\", \"cherry\", \"durian\", \"orange\"]\n",
    "print( fruitlist )\n",
    "fruitlist[1:3] = [\"raspberry\", \"elderberry\", \"strawberry\", \"blueberry\"]\n",
    "print( fruitlist )"
   ]
  },
  {
   "cell_type": "markdown",
   "metadata": {
    "id": "qcAywyoA7F7D"
   },
   "source": [
    "Podeu inserir elements nous en una llista assignant-los a una secció de mida zero."
   ]
  },
  {
   "cell_type": "code",
   "execution_count": null,
   "metadata": {
    "colab": {
     "base_uri": "https://localhost:8080/"
    },
    "id": "K3wzf82W7F7D",
    "outputId": "eb8b84b9-7cf0-42cb-c762-a8d6bba64865"
   },
   "outputs": [
    {
     "name": "stdout",
     "output_type": "stream",
     "text": [
      "['apple', 'banana', 'cherry', 'durian', 'orange']\n",
      "['apple', 'raspberry', 'elderberry', 'strawberry', 'blueberry', 'banana', 'cherry', 'durian', 'orange']\n"
     ]
    }
   ],
   "source": [
    "fruitlist = [\"apple\", \"banana\", \"cherry\", \"durian\", \"orange\"]\n",
    "print( fruitlist )\n",
    "fruitlist[1:1] = [\"raspberry\", \"elderberry\", \"strawberry\", \"blueberry\"]\n",
    "print( fruitlist )"
   ]
  },
  {
   "cell_type": "markdown",
   "metadata": {
    "id": "9ueD1nlc7F7E"
   },
   "source": [
    "Podeu suprimir elements d'una llista assignant una llista buida a una porció."
   ]
  },
  {
   "cell_type": "code",
   "execution_count": null,
   "metadata": {
    "colab": {
     "base_uri": "https://localhost:8080/"
    },
    "id": "fst4mNrw7F7E",
    "outputId": "409e89c3-7cdd-4f25-8536-d97fdc753ccf"
   },
   "outputs": [
    {
     "name": "stdout",
     "output_type": "stream",
     "text": [
      "['apple', 'banana', 'cherry', 'durian', 'orange']\n",
      "['apple', 'durian', 'orange']\n"
     ]
    }
   ],
   "source": [
    "fruitlist = [\"apple\", \"banana\", \"cherry\", \"durian\", \"orange\"]\n",
    "print( fruitlist )\n",
    "fruitlist[1:3] = []\n",
    "print( fruitlist )"
   ]
  },
  {
   "cell_type": "code",
   "execution_count": null,
   "metadata": {
    "colab": {
     "base_uri": "https://localhost:8080/"
    },
    "id": "U0pIlMXN7F7F",
    "outputId": "f4f78264-6cbd-47d8-b010-ac84fb3827f1"
   },
   "outputs": [
    {
     "name": "stdout",
     "output_type": "stream",
     "text": [
      "['abcs', '10', '@', ' ']\n",
      "['abcs', '1', '2', '3', '4', '5']\n"
     ]
    }
   ],
   "source": [
    "print(list_a)\n",
    "list_a [1:5] = [\"1\", \"2\", \"3\", \"4\", \"5\"]\n",
    "print(list_a)"
   ]
  },
  {
   "cell_type": "markdown",
   "metadata": {
    "id": "j7e2NmLi7F7F"
   },
   "source": [
    "Mitjançant porcions i tasques, podeu adaptar una llista de la manera que vulgueu. Tanmateix, és més fàcil canviar les llistes mitjançant mètodes. Hi ha molts mètodes útils disponibles, que parlaré a continuació.\n",
    "\n",
    "**Exercici**: canvieu la llista del bloc de codi següent convertint cada paraula de la llista en una paraula que només consta de majúscules. En aquest punt del quadern, la manera de fer-ho és utilitzant un bucle while que utilitza una variable i que comença a 0 i s'executa fins a `len(fruitlist)-1`. Aquest és un índex per a tots els elements de `fruitlist`, que podeu canviar simplement assignant-los un valor nou."
   ]
  },
  {
   "cell_type": "code",
   "execution_count": null,
   "metadata": {
    "colab": {
     "base_uri": "https://localhost:8080/"
    },
    "id": "T3CHEAcB7F7F",
    "outputId": "4ec388ea-04d7-4536-b27c-1f6bb06a41e3"
   },
   "outputs": [
    {
     "name": "stdout",
     "output_type": "stream",
     "text": [
      "orange\n",
      "4\n",
      "APPLE\n",
      "BANANA\n",
      "CHERRY\n",
      "DURIAN\n",
      "ORANGE\n"
     ]
    }
   ],
   "source": [
    "# Making capital fruits.\n",
    "fruitlist = [\"apple\", \"banana\", \"cherry\", \"durian\", \"orange\"]\n",
    "\n",
    "print(fruitlist[4])\n",
    "print(len(fruitlist)-1)\n",
    "\n",
    "\n",
    "i = 0\n",
    "while i <= (len(fruitlist)-1):\n",
    "    print (fruitlist[i].upper())\n",
    "    i += 1\n",
    "\n"
   ]
  },
  {
   "cell_type": "markdown",
   "metadata": {
    "id": "fVJrXfXM7F7G"
   },
   "source": [
    "---"
   ]
  },
  {
   "cell_type": "markdown",
   "metadata": {
    "id": "-THNPMfT7F7G"
   },
   "source": [
    "## Llistes i operadors"
   ]
  },
  {
   "cell_type": "markdown",
   "metadata": {
    "id": "-a90zzdY7F7G"
   },
   "source": [
    "Les llistes admeten l'ús dels operadors `+` i `*`. Aquests operadors funcionen de manera semblant a com funcionen per a les cadenes.\n",
    "\n",
    "Podeu afegir dues llistes juntament amb l'operador `+`, el resultat de la qual és una llista que conté els elements de les dues llistes implicades. Per descomptat, heu d'assignar el resultat a una variable per emmagatzemar-la.\n",
    "\n",
    "Podeu multiplicar una llista per un nombre enter per crear una llista que contingui els elements de la llista original, repetida tantes vegades com indiqui el nombre. Aquest pot ser un enfocament ràpid per crear una llista amb tots els elements iguals."
   ]
  },
  {
   "cell_type": "code",
   "execution_count": null,
   "metadata": {
    "id": "DxkCujbI7F7H",
    "outputId": "f1c30a2d-be52-4478-ad87-fbad755fd26b"
   },
   "outputs": [
    {
     "name": "stdout",
     "output_type": "stream",
     "text": [
      "['apple', 'banana', 'cherry', 'durian']\n",
      "[0, 0, 0, 0, 0, 0, 0, 0, 0, 0]\n"
     ]
    }
   ],
   "source": [
    "fruitlist = [\"apple\", \"banana\"] + [\"cherry\", \"durian\"]\n",
    "print( fruitlist )\n",
    "\n",
    "def multiply_list_by_ten(itemlist):\n",
    "    return itemlist * 10\n",
    "    \n",
    "print(multiply_list_by_ten([0]))\n",
    "#print(multiply_list_by_ten(fruitlist))"
   ]
  },
  {
   "cell_type": "markdown",
   "metadata": {
    "id": "36zVRJ5C7F7H"
   },
   "source": [
    "Nota: Amb el `+` podeu afegir una llista a una altra llista, però no podeu afegir un element nou a una llista, tret que transformeu aquest element nou en una llista amb un sol element posant dos claudàtors al seu voltant. Si intenteu afegir alguna cosa a una llista que no és una llista, Python intentarà interpretar-la com una llista, si pot fer-ho (que pot, per exemple, per a una cadena, que pot considerar una llista de caràcters); llavors encara farà l'addició, però el resultat no serà el que voleu. Per exemple, el codi següent intenta afegir una \"cirera\" a una llista, però només la segona addició fa el que es pretén."
   ]
  },
  {
   "cell_type": "code",
   "execution_count": null,
   "metadata": {
    "colab": {
     "base_uri": "https://localhost:8080/"
    },
    "id": "Psy0z8bK7F7H",
    "outputId": "c5e1aba8-71e9-4d16-b422-9c4326e4e818"
   },
   "outputs": [
    {
     "name": "stdout",
     "output_type": "stream",
     "text": [
      "['apple', 'banana', 'c', 'h', 'e', 'r', 'r', 'y']\n",
      "['apple', 'banana', 'cherry']\n"
     ]
    }
   ],
   "source": [
    "def add_to_list(fruitlist, item):\n",
    "    fruitlist +=  item # fruitlist.append(item)\n",
    "    return fruitlist\n",
    "\n",
    "print(add_to_list([\"apple\", \"banana\"], \"cherry\"))\n",
    "print(add_to_list([\"apple\", \"banana\"], [\"cherry\"]))\n"
   ]
  },
  {
   "cell_type": "markdown",
   "metadata": {
    "id": "ebNjKtZ-7F7I"
   },
   "source": [
    "## mètodes de les Llistes"
   ]
  },
  {
   "cell_type": "markdown",
   "metadata": {
    "id": "MlgZxejb7F7I"
   },
   "source": [
    "Python admet molts mètodes per canviar llistes o obtenir-ne informació. No cal que importeu cap mòdul per utilitzar-los. Com que són mètodes, els crideu utilitzant la sintaxi `<llista>.<mètode>()`.\n",
    "\n",
    "**Important!** Les llistes són mutables i aquests mètodes realment *canvien* la llista! No és com esteu acostumats amb els mètodes de cadena, on els mètodes creen una cadena nova i la retornen, mentre roman la cadena original. La majoria dels mètodes de llista tenen un efecte irrevocable sobre la llista en què treballen. Normalment no tenen valor de retorn, i tampoc en necessiteu, ja que l'objectiu dels mètodes és canviar la llista."
   ]
  },
  {
   "cell_type": "markdown",
   "metadata": {
    "id": "q7wLNjHp7F7I"
   },
   "source": [
    "### `append()`"
   ]
  },
  {
   "cell_type": "markdown",
   "metadata": {
    "id": "2Z18Lj8a7F7J"
   },
   "source": [
    "`append()` attaches an item at the end of a list. You call the method with the item you wish to add as argument."
   ]
  },
  {
   "cell_type": "code",
   "execution_count": null,
   "metadata": {
    "id": "VEgTMp8O7F7J"
   },
   "outputs": [],
   "source": [
    "fruitlist = [\"apple\", \"banana\", \"cherry\", \"durian\"]\n",
    "print( fruitlist )\n",
    "fruitlist.append( \"orange\" )\n",
    "print( fruitlist )"
   ]
  },
  {
   "cell_type": "markdown",
   "metadata": {
    "id": "P-V-6SX07F7J"
   },
   "source": [
    "Una alternativa per utilitzar el mètode `append()` és afegir una llista amb un element nou a la llista existent amb un `+`, i assignar la llista resultant a la variable de llista original. Tanmateix, el mètode `append()` és preferible ja que és més llegible. `<list>.append(<element>)` és equivalent a  `<list>[len(<list>):] = [<element>]`, o simplement `<list> += [<element>]`."
   ]
  },
  {
   "cell_type": "markdown",
   "metadata": {
    "id": "QADm4-xo7F7K"
   },
   "source": [
    "### `extend()`"
   ]
  },
  {
   "cell_type": "markdown",
   "metadata": {
    "id": "MW6lPiLg7F7K"
   },
   "source": [
    "`extend()` fa una llista més llarga afegint els elements d'una altra llista al final. Crideu al mètode amb la llista de la qual voleu afegir els elements com a argument."
   ]
  },
  {
   "cell_type": "code",
   "execution_count": null,
   "metadata": {
    "colab": {
     "base_uri": "https://localhost:8080/"
    },
    "id": "xOZFw7j97F7K",
    "outputId": "19ff20d2-49ef-42cf-fb9f-9bd895d75f09"
   },
   "outputs": [
    {
     "name": "stdout",
     "output_type": "stream",
     "text": [
      "['apple', 'banana', 'cherry', 'durian']\n",
      "['apple', 'banana', 'cherry', 'durian', 'raspberry', 'elderberry', 'strawberry', 'blueberry']\n"
     ]
    }
   ],
   "source": [
    "fruitlist = [\"apple\", \"banana\", \"cherry\", \"durian\"]\n",
    "print( fruitlist )\n",
    "fruitlist.extend( [\"raspberry\", \"elderberry\", \"strawberry\", \"blueberry\"] )\n",
    "print( fruitlist )"
   ]
  },
  {
   "cell_type": "markdown",
   "metadata": {
    "id": "Xma-9Cv87F7K"
   },
   "source": [
    "Igual que amb el mètode `append()`, podeu ampliar una llista existent amb una llista nova simplement utilitzant l'operador `+` i assignant el resultat a la variable de llista original. I igual que amb el mètode `append()`, és preferible utilitzar el mètode `extend()`. `<list>.extend(<addlist>)` és equivalent a `<list>[len(<list>):] = <addlist>`."
   ]
  },
  {
   "cell_type": "markdown",
   "metadata": {
    "id": "SaiPlb-X7F7K"
   },
   "source": [
    "### `insert()`"
   ]
  },
  {
   "cell_type": "markdown",
   "metadata": {
    "id": "mrSeUXVC7F7L"
   },
   "source": [
    "`insert()` us permet inserir un element en una posició específica d'una llista. Es crida amb dos arguments, el primer és l'índex de la ubicació on voleu inserir l'element nou i el segon el propi element nou. Per inserir un element al capdavant de la llista, podeu utilitzar l'índex 0. Quan ho feu servir, tingueu en compte que l'índex dels elements després de la vostra inserció canvia!"
   ]
  },
  {
   "cell_type": "code",
   "execution_count": null,
   "metadata": {
    "colab": {
     "base_uri": "https://localhost:8080/"
    },
    "id": "MaKxUrMf7F7L",
    "outputId": "33525fec-5fa6-4e5e-dea5-76cd7414f42c"
   },
   "outputs": [
    {
     "name": "stdout",
     "output_type": "stream",
     "text": [
      "['apple', 'banana', 'cherry', 'durian']\n",
      "['apple', 'banana', 'orange', 'cherry', 'durian']\n"
     ]
    },
    {
     "data": {
      "text/plain": [
       "['apple',\n",
       " 'banana',\n",
       " 'orange',\n",
       " 'raspberry',\n",
       " 'elderberry',\n",
       " 'strawberry',\n",
       " 'blueberry',\n",
       " 'cherry',\n",
       " 'durian']"
      ]
     },
     "execution_count": 14,
     "metadata": {},
     "output_type": "execute_result"
    }
   ],
   "source": [
    "fruitlist = [\"apple\", \"banana\", \"cherry\", \"durian\"]\n",
    "print( fruitlist )\n",
    "fruitlist.insert( 2, \"orange\" )\n",
    "print( fruitlist )\n",
    "\n",
    "new_fruitlist = fruitlist.copy()\n",
    "\n",
    "new_fruitlist[3:3]= [\"raspberry\", \"elderberry\", \"strawberry\", \"blueberry\"]\n",
    "new_fruitlist"
   ]
  },
  {
   "cell_type": "markdown",
   "metadata": {
    "id": "0XyEyee67F7L"
   },
   "source": [
    "`<list>.insert(<index>,<element>)` és equivalent a `<list>[<index>:<index>] = [<element>]`."
   ]
  },
  {
   "cell_type": "markdown",
   "metadata": {
    "id": "s6_wVDp-7F7L"
   },
   "source": [
    "### `remove()`"
   ]
  },
  {
   "cell_type": "markdown",
   "metadata": {
    "id": "Q9RPIK9c7F7M"
   },
   "source": [
    "`remove()` permet eliminar un element d'una llista. L'element que voleu eliminar es dóna com a argument. Si l'element apareix a la llista diverses vegades, només s'eliminarà la primera ocurrència. Si intenteu eliminar un element que no es troba a la llista, es genera un error d'execució."
   ]
  },
  {
   "cell_type": "code",
   "execution_count": null,
   "metadata": {
    "id": "9YkakrPF7F7M",
    "outputId": "c71af8ca-8096-44e9-aae3-747a043200ec"
   },
   "outputs": [
    {
     "name": "stdout",
     "output_type": "stream",
     "text": [
      "['apple', 'banana', 'cherry', 'banana', 'durian']\n",
      "['apple', 'cherry', 'banana', 'durian']\n"
     ]
    }
   ],
   "source": [
    "fruitlist = [\"apple\", \"banana\", \"cherry\", \"banana\", \"durian\"]\n",
    "print( fruitlist )\n",
    "fruitlist.remove( \"banana\" )\n",
    "print( fruitlist )"
   ]
  },
  {
   "cell_type": "markdown",
   "metadata": {
    "id": "U4Isfc5A7F7M"
   },
   "source": [
    "### `pop()`"
   ]
  },
  {
   "cell_type": "markdown",
   "metadata": {
    "id": "33LyrhGu7F7M"
   },
   "source": [
    "Igual que `remove()`, `pop()` elimina un element de la llista, però ho fa per índex. Té un argument opcional, que és l'índex de l'element que voleu eliminar. Si no proporcioneu aquest argument, `pop()` elimina l'últim element de la llista. Si l'índex està més enllà dels límits de la llista, `pop()` genera un error d'execució.\n",
    "\n",
    "Una diferència important amb `remove()` és que `pop()` realment té un valor de retorn, és a dir, l'element que s'elimina. Això us permet processar ràpidament tots els elements d'una llista, alhora que buideu la llista."
   ]
  },
  {
   "cell_type": "code",
   "execution_count": null,
   "metadata": {
    "colab": {
     "base_uri": "https://localhost:8080/"
    },
    "id": "XJDk4tz37F7M",
    "outputId": "b9dfda17-543f-4ba1-92e9-422de97376c5"
   },
   "outputs": [
    {
     "name": "stdout",
     "output_type": "stream",
     "text": [
      "['apple', 'banana', 'cherry', 'durian']\n",
      "durian\n",
      "['apple', 'banana', 'cherry']\n",
      "apple\n",
      "['banana', 'cherry']\n"
     ]
    }
   ],
   "source": [
    "fruitlist = [\"apple\", \"banana\", \"cherry\", \"durian\"]\n",
    "print( fruitlist )\n",
    "print( fruitlist.pop() )\n",
    "print( fruitlist )\n",
    "print( fruitlist.pop( 0 ) )\n",
    "print( fruitlist )"
   ]
  },
  {
   "cell_type": "code",
   "execution_count": null,
   "metadata": {
    "colab": {
     "base_uri": "https://localhost:8080/"
    },
    "id": "Esj-bSkCkHM8",
    "outputId": "0d6faa27-4f18-485f-a9bc-efc86c00fa19"
   },
   "outputs": [
    {
     "name": "stdout",
     "output_type": "stream",
     "text": [
      "['apple', 'banana', 'cherry', 'durian']\n",
      "['banana', 'cherry', 'durian']\n",
      "apple\n"
     ]
    }
   ],
   "source": [
    "fruitlist = [\"apple\", \"banana\", \"cherry\", \"durian\"]\n",
    "\n",
    "print(fruitlist)\n",
    "a = fruitlist.pop(0)\n",
    "print(fruitlist)\n",
    "print(a)"
   ]
  },
  {
   "cell_type": "code",
   "execution_count": null,
   "metadata": {
    "colab": {
     "base_uri": "https://localhost:8080/"
    },
    "id": "gDMuYbx4kJhk",
    "outputId": "715d0203-9624-4c51-f6da-7fb8eaba2f1f"
   },
   "outputs": [
    {
     "name": "stdout",
     "output_type": "stream",
     "text": [
      "durian\n"
     ]
    }
   ],
   "source": [
    "print(a)"
   ]
  },
  {
   "cell_type": "markdown",
   "metadata": {
    "id": "NP-bwzK77F7N"
   },
   "source": [
    "### `del`"
   ]
  },
  {
   "cell_type": "markdown",
   "metadata": {
    "id": "L1E8g_Xd7F7N"
   },
   "source": [
    "`del` no és ni un mètode ni una funció, però com que sovint s'esmenta d'una sola vegada amb `remove()` i `pop()`, el poso aquí. `del` és una paraula clau que us permet suprimir un element de llista, o porció de llista, per índex. És similar a `pop()` en funcionalitat, però no té un valor de retorn. A més, `pop()` no es pot utilitzar en slices. Per utilitzar `del`, utilitzeu la declaració `del <list>[<index>]` o `del <list>[<index1>:<index2>]`.."
   ]
  },
  {
   "cell_type": "code",
   "execution_count": null,
   "metadata": {
    "colab": {
     "base_uri": "https://localhost:8080/"
    },
    "id": "IB-x0-L_7F7N",
    "outputId": "ccd77e9f-bdd5-4337-9294-29ad10cfebff"
   },
   "outputs": [
    {
     "name": "stdout",
     "output_type": "stream",
     "text": [
      "['apple', 'banana', 'cherry', 'banana', 'durian']\n",
      "['apple', 'banana', 'cherry', 'durian']\n"
     ]
    }
   ],
   "source": [
    "fruitlist = [\"apple\", \"banana\", \"cherry\", \"banana\", \"durian\"]\n",
    "print( fruitlist )\n",
    "del fruitlist[3] \n",
    "print( fruitlist )"
   ]
  },
  {
   "cell_type": "markdown",
   "metadata": {
    "id": "Lr43uHT97F7N"
   },
   "source": [
    "### `index()`"
   ]
  },
  {
   "cell_type": "markdown",
   "metadata": {
    "id": "7aizGvOG7F7O"
   },
   "source": [
    "`index()` retorna l'índex de la primera ocurrència de la llista de l'element que es dóna a `index()` com a argument. Es genera un error d'execució si l'element no es troba a la llista."
   ]
  },
  {
   "cell_type": "code",
   "execution_count": null,
   "metadata": {
    "id": "SA0Gi1Gq7F7O",
    "outputId": "3e819ea2-ba73-4d2c-8429-4c4cd6334be0"
   },
   "outputs": [
    {
     "name": "stdout",
     "output_type": "stream",
     "text": [
      "1\n"
     ]
    }
   ],
   "source": [
    "fruitlist = [\"apple\", \"banana\", \"cherry\", \"banana\", \"durian\"]\n",
    "print( fruitlist.index( \"banana\" ) )"
   ]
  },
  {
   "cell_type": "markdown",
   "metadata": {
    "id": "wvxWbyfG7F7O"
   },
   "source": [
    "### `count()`"
   ]
  },
  {
   "cell_type": "markdown",
   "metadata": {
    "id": "lGFb4uwS7F7O"
   },
   "source": [
    "`count()` retorna un nombre enter que indica amb quina freqüència l'element que se li passa com a argument apareix a la llista."
   ]
  },
  {
   "cell_type": "code",
   "execution_count": null,
   "metadata": {
    "id": "9Ht97lGV7F7P",
    "outputId": "6d423415-10c5-459f-ed13-24c1b73bc79c"
   },
   "outputs": [
    {
     "name": "stdout",
     "output_type": "stream",
     "text": [
      "2\n"
     ]
    }
   ],
   "source": [
    "fruitlist = [\"apple\", \"banana\", \"cherry\", \"banana\", \"durian\"]\n",
    "print( fruitlist.count( \"banana\" ) )"
   ]
  },
  {
   "cell_type": "markdown",
   "metadata": {
    "id": "Gw2eloe-7F7P"
   },
   "source": [
    "### ``sort()``"
   ]
  },
  {
   "cell_type": "markdown",
   "metadata": {
    "id": "LMrYFkNH7F7P"
   },
   "source": [
    "`sort()` ordena els elements de la llista, de baix a alt. Si els elements de la llista són cadenes, fa una ordenació alfabètica. Si els elements són números, fa una ordenació numèrica. Si es barregen els elements, genera un error d'execució, tret que es donen certs arguments."
   ]
  },
  {
   "cell_type": "code",
   "execution_count": null,
   "metadata": {
    "id": "l5oOtSJF7F7P",
    "outputId": "20c54307-7f5d-4ca8-dd33-d46153fc0105"
   },
   "outputs": [
    {
     "name": "stdout",
     "output_type": "stream",
     "text": [
      "['apple', 'banana', 'banana', 'blueberry', 'cherry', 'durian', 'raspberry', 'strawberry']\n",
      "[129, 246, 314, 315, 642, 999]\n"
     ]
    }
   ],
   "source": [
    "fruitlist = [\"apple\", \"strawberry\", \"banana\", \"raspberry\", \"cherry\", \"banana\", \"durian\", \"blueberry\"]\n",
    "fruitlist.sort()\n",
    "print( fruitlist )\n",
    "\n",
    "numlist = [314, 315, 642, 246, 129, 999]\n",
    "numlist.sort()\n",
    "print( numlist )"
   ]
  },
  {
   "cell_type": "markdown",
   "metadata": {
    "id": "CcjusT6s7F7Q"
   },
   "source": [
    "Per fer una ordenació inversa, podeu afegir un argument `reverse=<boolean>`."
   ]
  },
  {
   "cell_type": "code",
   "execution_count": null,
   "metadata": {
    "id": "0C00HD3r7F7Q",
    "outputId": "1e6a3a27-9e41-4deb-c9c5-39867bbfe512"
   },
   "outputs": [
    {
     "name": "stdout",
     "output_type": "stream",
     "text": [
      "['strawberry', 'raspberry', 'durian', 'cherry', 'blueberry', 'banana', 'banana', 'apple']\n"
     ]
    }
   ],
   "source": [
    "fruitlist = [\"apple\", \"strawberry\", \"banana\", \"raspberry\", \"cherry\", \"banana\", \"durian\", \"blueberry\"]\n",
    "fruitlist.sort( reverse=True )\n",
    "print( fruitlist )"
   ]
  },
  {
   "cell_type": "markdown",
   "metadata": {
    "id": "0diAP1OJ7F7Q"
   },
   "source": [
    "Un altre argument que podeu donar `sort()` és una clau. Heu de proporcionar aquest argument com a  `<list>.sort( key=<key> )`, per la qual cosa `<clau>` és una funció que pren un argument (l'element que s'ha d'ordenar) i retorna un valor que és utilitzat com a clau. Un ús típic de l'argument \"clau\" és si voleu ordenar una llista de cadenes, però voleu fer l'ordenació sense distinció de majúscules i minúscules. Per tant, com a clau voleu utilitzar els elements, però en minúscules, és a dir, voleu aplicar la funció `str.lower()` a l'element. Anomeneu l'ordenació com a l'exemple següent:"
   ]
  },
  {
   "cell_type": "code",
   "execution_count": null,
   "metadata": {
    "colab": {
     "base_uri": "https://localhost:8080/"
    },
    "id": "SJCEAFdu7F7Q",
    "outputId": "a9ecc429-6d56-4f86-f868-414ed24bd3ad"
   },
   "outputs": [
    {
     "name": "stdout",
     "output_type": "stream",
     "text": [
      "['CHERRY', 'Strawberry', 'apple', 'banana', 'banana', 'blueberry', 'durian', 'raspberry']\n",
      "['apple', 'banana', 'banana', 'blueberry', 'CHERRY', 'durian', 'raspberry', 'Strawberry']\n"
     ]
    }
   ],
   "source": [
    "fruitlist = [\"apple\", \"Strawberry\", \"banana\", \"raspberry\", \"CHERRY\", \"banana\", \"durian\", \"blueberry\"]\n",
    "fruitlist.sort() \n",
    "print( fruitlist )\n",
    "fruitlist.sort( key=str.lower ) # case-insensitive sort\n",
    "print( fruitlist )\n"
   ]
  },
  {
   "cell_type": "markdown",
   "metadata": {
    "id": "zJ1McU8Q7F7R"
   },
   "source": [
    "Tingueu en compte que per a l'argument clau, no col·loqueu parèntesis després del nom de la funció. Aquesta no és una crida de funció, és un argument que indica a Python quina funció utilitzarà per generar la clau.\n",
    "\n",
    "Podeu escriure la vostra pròpia funció per utilitzar-la com a clau. Per exemple, al codi següent, `numlist` s'ordena amb l'últim dígit de cada número com el dígit més important, seguit del dígit del mig:"
   ]
  },
  {
   "cell_type": "code",
   "execution_count": null,
   "metadata": {
    "colab": {
     "base_uri": "https://localhost:8080/"
    },
    "id": "QKE-ZnLz7F7R",
    "outputId": "b21f2dd0-845b-4acb-9157-b109c3392e6d"
   },
   "outputs": [
    {
     "name": "stdout",
     "output_type": "stream",
     "text": [
      "[999, 129, 246, 315, 314, 642]\n"
     ]
    }
   ],
   "source": [
    "def revertdigits( element ):\n",
    "    return (element%10)*100 + (int( element/10 )%10)*10 + int( element/100 )\n",
    "\n",
    "numlist = [314, 315, 642, 246, 129, 999]\n",
    "numlist.sort( key=revertdigits, reverse = True )\n",
    "print( numlist )\n",
    "\n"
   ]
  },
  {
   "cell_type": "code",
   "execution_count": null,
   "metadata": {
    "colab": {
     "base_uri": "https://localhost:8080/"
    },
    "id": "uX2M176Om6Wz",
    "outputId": "9a78ebaa-1367-4f59-bb55-492436b733f5"
   },
   "outputs": [
    {
     "data": {
      "text/plain": [
       "[413, 513, 246, 642, 921, 999]"
      ]
     },
     "execution_count": 33,
     "metadata": {},
     "output_type": "execute_result"
    }
   ],
   "source": [
    "numlist = [314, 315, 642, 246, 129, 999]\n",
    "\n",
    "list(map(revertdigits, numlist))"
   ]
  },
  {
   "cell_type": "markdown",
   "metadata": {
    "id": "pR1TGFAf7F7R"
   },
   "source": [
    "Aquí hi ha un altre exemple, que ordena una llista de cadenes per longitud de cadena, seguida per ordre alfabètic:"
   ]
  },
  {
   "cell_type": "code",
   "execution_count": null,
   "metadata": {
    "colab": {
     "base_uri": "https://localhost:8080/"
    },
    "id": "X0SgGy8j7F7R",
    "outputId": "92d95827-1ac9-49d1-ddb5-d538a0139d06"
   },
   "outputs": [
    {
     "name": "stdout",
     "output_type": "stream",
     "text": [
      "['apple', 'banana', 'banana', 'cherry', 'durian', 'blueberry', 'raspberry', 'strawberry']\n"
     ]
    }
   ],
   "source": [
    "def len_alphabetical( element ):\n",
    "    return len( element ), element \n",
    "\n",
    "fruitlist = [\"apple\", \"strawberry\", \"banana\", \"raspberry\", \"cherry\", \"banana\", \"durian\", \"blueberry\"]\n",
    "fruitlist.sort( key=len_alphabetical )\n",
    "print( fruitlist )"
   ]
  },
  {
   "cell_type": "markdown",
   "metadata": {
    "id": "_ZEVjC327F7S"
   },
   "source": [
    "En aquest punt podem donar un exemple típic de l'ús de \"funcions anònimes\". L'ús d'una funció anònima per especificar la clau per al mètode `sort()` manté el codi de la clau al costat d'on crida a `sort()`, en lloc d'una altra part del programa. Això pot millorar la llegibilitat."
   ]
  },
  {
   "cell_type": "code",
   "execution_count": null,
   "metadata": {
    "id": "9MLdL9yy7F7S",
    "outputId": "70a92392-3ba0-4557-b79b-5e53bea77f18"
   },
   "outputs": [
    {
     "name": "stdout",
     "output_type": "stream",
     "text": [
      "['apple', 'banana', 'banana', 'cherry', 'durian', 'blueberry', 'raspberry', 'strawberry']\n"
     ]
    }
   ],
   "source": [
    "fruitlist = [\"apple\", \"strawberry\", \"banana\", \"raspberry\", \"cherry\", \"banana\", \"durian\", \"blueberry\"]\n",
    "fruitlist.sort( key=lambda x: (len(x),x) )\n",
    "print( fruitlist )"
   ]
  },
  {
   "cell_type": "markdown",
   "metadata": {
    "id": "gMFydibG7F7S"
   },
   "source": [
    "### `reverse()`"
   ]
  },
  {
   "cell_type": "markdown",
   "metadata": {
    "id": "1DZi_vX27F7S"
   },
   "source": [
    "`reverse()` simplement inverteix els elements de la llista."
   ]
  },
  {
   "cell_type": "code",
   "execution_count": null,
   "metadata": {
    "colab": {
     "base_uri": "https://localhost:8080/"
    },
    "id": "zDL4Jrcl7F7T",
    "outputId": "e05d3642-4d8e-468e-9db9-d570b125f3b3"
   },
   "outputs": [
    {
     "name": "stdout",
     "output_type": "stream",
     "text": [
      "['blueberry', 'durian', 'banana', 'cherry', 'raspberry', 'banana', 'strawberry', 'apple']\n"
     ]
    }
   ],
   "source": [
    "fruitlist = [\"apple\", \"strawberry\", \"banana\", \"raspberry\", \"cherry\", \"banana\", \"durian\", \"blueberry\"]\n",
    "fruitlist.reverse()\n",
    "print( fruitlist )"
   ]
  },
  {
   "cell_type": "code",
   "execution_count": null,
   "metadata": {
    "colab": {
     "base_uri": "https://localhost:8080/"
    },
    "id": "Gpq0SMxPn_Gb",
    "outputId": "000463ac-2162-4b1d-b024-01405d21e8f3"
   },
   "outputs": [
    {
     "name": "stdout",
     "output_type": "stream",
     "text": [
      "['blueberry', 'durian', 'banana', 'cherry', 'raspberry', 'banana', 'strawberry', 'apple']\n",
      "['apple', 'strawberry', 'banana', 'raspberry', 'cherry', 'banana', 'durian', 'blueberry']\n",
      "['blueberry', 'durian', 'banana', 'cherry', 'raspberry', 'banana', 'strawberry', 'apple']\n"
     ]
    }
   ],
   "source": [
    "print(fruitlist)\n",
    "print(fruitlist[::-1])\n",
    "print(fruitlist)"
   ]
  },
  {
   "cell_type": "markdown",
   "metadata": {
    "id": "le9euBR07F7T"
   },
   "source": [
    "### Practice"
   ]
  },
  {
   "cell_type": "markdown",
   "metadata": {
    "id": "CDehSm6p7F7T"
   },
   "source": [
    "**Exercise**: Write a program that asks the user to enter some data, for instance the names of their friends. When the user wants to stop providing inputs, he just presses *Enter*. The program then displays an alphabetically sorted list of the data items entered. Do not just print the list, but print each item separately, on a different line."
   ]
  },
  {
   "cell_type": "code",
   "execution_count": null,
   "metadata": {
    "id": "f9dNhswM7F7T"
   },
   "outputs": [],
   "source": [
    "# Present a sorted list.\n",
    "\n"
   ]
  },
  {
   "cell_type": "markdown",
   "metadata": {
    "id": "G_r5iC237F7T"
   },
   "source": [
    "**Exercise**: Sort a list of numbers using their absolute values."
   ]
  },
  {
   "cell_type": "code",
   "execution_count": null,
   "metadata": {
    "id": "wptO32aM7F7U",
    "outputId": "d06ffeca-add0-4ac5-8e3b-c069cd1cf498"
   },
   "outputs": [
    {
     "name": "stdout",
     "output_type": "stream",
     "text": [
      "[0, 1, 2, 2, 3, 5, 7, 7, 8, 10, 10]\n"
     ]
    }
   ],
   "source": [
    "# Sorting with absolute values.\n"
   ]
  },
  {
   "cell_type": "markdown",
   "metadata": {
    "id": "BGH4awKV7F7U"
   },
   "source": [
    "## Aliasing"
   ]
  },
  {
   "cell_type": "markdown",
   "metadata": {
    "id": "9vurxfUQ7F7V"
   },
   "source": [
    "Si assigneu una variable que conté una llista a una altra variable, podeu esperar que creeu una còpia de la llista a la segona variable. Però tu no estàs fent això. En realitat esteu creant un *àlies* per a la llista, és a dir, una nova variable que fa referència a la mateixa llista. Això vol dir que la nova variable es pot tractar com una llista, però qualsevol canvi que feu a la llista a la qual fa referència és visible a la variable de llista original i viceversa. No són llistes diferents."
   ]
  },
  {
   "cell_type": "code",
   "execution_count": null,
   "metadata": {
    "id": "eVC84wXO7F7V",
    "outputId": "a2dbee89-0da2-401e-bee9-9de36c8aff40"
   },
   "outputs": [
    {
     "name": "stdout",
     "output_type": "stream",
     "text": [
      "['apple', 'banana', 'cherry', 'durian']\n",
      "['apple', 'banana', 'cherry', 'durian']\n",
      "['apple', 'banana', 'orange', 'durian']\n",
      "['apple', 'banana', 'orange', 'durian']\n"
     ]
    }
   ],
   "source": [
    "fruitlist = [\"apple\", \"banana\", \"cherry\", \"durian\"]\n",
    "newfruitlist = fruitlist\n",
    "print( fruitlist )\n",
    "print( newfruitlist )\n",
    "newfruitlist[2] = \"orange\"\n",
    "print( fruitlist )\n",
    "print( newfruitlist )"
   ]
  },
  {
   "cell_type": "markdown",
   "metadata": {
    "id": "PnvrgzMU7F7V"
   },
   "source": [
    "Cada variable en Python té un número d'identificació. Ho podeu veure amb la funció `id()`. El número d'identificació indica a quin punt de memòria es refereix la variable. Per a un àlies d'una llista, l'identificador és el mateix que per a la llista original."
   ]
  },
  {
   "cell_type": "code",
   "execution_count": null,
   "metadata": {
    "colab": {
     "base_uri": "https://localhost:8080/"
    },
    "id": "md9hz_7w7F7V",
    "outputId": "29cf2f7c-8175-4700-bc4f-82e6cf8e76d7"
   },
   "outputs": [
    {
     "name": "stdout",
     "output_type": "stream",
     "text": [
      "139940772353520\n",
      "139940772353520\n"
     ]
    }
   ],
   "source": [
    "fruitlist = [\"apple\", \"banana\", \"cherry\", \"durian\"]\n",
    "newfruitlist = fruitlist\n",
    "print( id( fruitlist ) )\n",
    "print( id( newfruitlist ) )"
   ]
  },
  {
   "cell_type": "markdown",
   "metadata": {
    "id": "9H4SoTnp7F7V"
   },
   "source": [
    "Si voleu crear una còpia d'una llista, podeu fer-ho amb un petit truc. En lloc d'utilitzar `<newlist> = <oldlist>`, feu servir l'ordre `<newlist> = <oldlist>[:]`."
   ]
  },
  {
   "cell_type": "code",
   "execution_count": null,
   "metadata": {
    "colab": {
     "base_uri": "https://localhost:8080/"
    },
    "id": "TLkjpkc67F7W",
    "outputId": "3d213315-a506-4599-e64e-ffa3ebf6e117"
   },
   "outputs": [
    {
     "name": "stdout",
     "output_type": "stream",
     "text": [
      "139940773235440\n",
      "139940773235440\n",
      "139940773886944\n",
      "['apple', 'banana', 'orange', 'durian']\n",
      "['apple', 'banana', 'orange', 'durian']\n",
      "['apple', 'banana', 'cherry', 'durian']\n"
     ]
    }
   ],
   "source": [
    "fruitlist = [\"apple\", \"banana\", \"cherry\", \"durian\"]\n",
    "newfruitlist = fruitlist\n",
    "verynewfruitlist = fruitlist[:]\n",
    "\n",
    "print( id( fruitlist ) )\n",
    "print( id( newfruitlist ) )\n",
    "print( id( verynewfruitlist ) )\n",
    "\n",
    "fruitlist[2] = \"orange\"\n",
    "print( fruitlist )\n",
    "print( newfruitlist )\n",
    "print( verynewfruitlist )"
   ]
  },
  {
   "cell_type": "markdown",
   "metadata": {
    "id": "fFGgRQmM7F7W"
   },
   "source": [
    "### `is`"
   ]
  },
  {
   "cell_type": "markdown",
   "metadata": {
    "id": "GRUluWc47F7W"
   },
   "source": [
    "S'introdueix la paraula clau `is` per comparar les identitats de dues variables."
   ]
  },
  {
   "cell_type": "code",
   "execution_count": null,
   "metadata": {
    "id": "D7MFEbVN7F7W",
    "outputId": "1a67c1b3-bf69-4980-dd88-ddb09f7e432f"
   },
   "outputs": [
    {
     "name": "stdout",
     "output_type": "stream",
     "text": [
      "True\n",
      "False\n",
      "False\n"
     ]
    }
   ],
   "source": [
    "fruitlist = [\"apple\", \"banana\", \"cherry\", \"durian\"]\n",
    "newfruitlist = fruitlist\n",
    "verynewfruitlist = fruitlist[:]\n",
    "\n",
    "print( fruitlist is newfruitlist )\n",
    "print( fruitlist is verynewfruitlist )\n",
    "print( newfruitlist is verynewfruitlist )"
   ]
  },
  {
   "cell_type": "markdown",
   "metadata": {
    "id": "RwH42fFJ7F7W"
   },
   "source": [
    "Com podeu veure, la paraula clau `is` aconsegueix determinar que `fruitlist` i `newfruitlist` són àlies, però que `verynewfruitlist` no és la mateixa llista. Si els compareu amb l'operador `==`, els resultats no són els mateixos que comparar-los amb `is`:"
   ]
  },
  {
   "cell_type": "code",
   "execution_count": null,
   "metadata": {
    "colab": {
     "base_uri": "https://localhost:8080/"
    },
    "id": "NVdvkbNH7F7X",
    "outputId": "5f408ad4-9ba0-4b0c-fcc9-3afde8eae467"
   },
   "outputs": [
    {
     "name": "stdout",
     "output_type": "stream",
     "text": [
      "True\n",
      "True\n",
      "True\n"
     ]
    }
   ],
   "source": [
    "fruitlist = [\"apple\", \"banana\", \"cherry\", \"durian\"]\n",
    "newfruitlist = fruitlist\n",
    "verynewfruitlist = fruitlist[:]\n",
    "\n",
    "print( fruitlist == newfruitlist )\n",
    "print( fruitlist == verynewfruitlist )\n",
    "print( newfruitlist == verynewfruitlist )"
   ]
  },
  {
   "cell_type": "markdown",
   "metadata": {
    "id": "RgUU82zb7F7X"
   },
   "source": [
    "L'operador `==` en realitat compara el contingut de les llistes, de manera que retorna `True` per a totes les comparacions. Per als tipus de dades per als quals `==` no està definit, executa una comparació d'identitats, però per a les llistes s'ha definit com una comparació dels continguts."
   ]
  },
  {
   "cell_type": "markdown",
   "metadata": {
    "id": "NEH8cMGn7F7X"
   },
   "source": [
    "### Còpies superficials vs. profundes"
   ]
  },
  {
   "cell_type": "markdown",
   "metadata": {
    "id": "IsZTv_NA7F7X"
   },
   "source": [
    "Si (alguns dels) elements de la vostra llista són llistes (o altres estructures de dades mutables que s'introdueixen en els propers capítols), copiar la llista amb la sintaxi `<newlist> = <oldlist>[:]` pot generar problemes. El motiu és que aquesta còpia és una \"còpia superficial\", el que significa que copia cada un dels elements de la llista amb una assignació habitual, la qual cosa implica que els elements de la llista que són llistes es converteixen en àlies dels elements de la llista. llista original."
   ]
  },
  {
   "cell_type": "code",
   "execution_count": null,
   "metadata": {
    "id": "-RykGQ6Y7F7X",
    "outputId": "80523d63-fe1c-491d-d2a9-d3ff615007f0"
   },
   "outputs": [
    {
     "name": "stdout",
     "output_type": "stream",
     "text": [
      "[5, 2, [6, 4]]\n",
      "[1, 2, [6, 4]]\n"
     ]
    }
   ],
   "source": [
    "numlist = [ 1, 2, [3, 4] ]\n",
    "copylist = numlist[:]\n",
    "\n",
    "numlist[0] = 5\n",
    "numlist[2][0] = 6\n",
    "print( numlist )\n",
    "print( copylist )"
   ]
  },
  {
   "cell_type": "markdown",
   "metadata": {
    "id": "MMh23aji7F7Y"
   },
   "source": [
    "Al codi anterior, podeu veure que l'assignació `numlist[0] = 5` només té un efecte sobre `numlist`, ja que `copylist` conté una còpia de numlist. Tanmateix, com que es tracta d'una còpia poc profunda, l'assignació a `numlist[2][0]` té un efecte en ambdues llistes, ja que la subllista `[3, 4]` s'emmagatzema a `copylist` com a àlies.\n",
    "\n",
    "Si voleu crear una \"còpia profunda\" d'una llista (és a dir, una còpia que també conté còpies reals de totes les subestructures mutables de la llista, que al seu torn contenen còpies reals de totes les seves subestructures mutables, etcètera), podeu utilitzar el mòdul \"copiar\" per a això. La funció `deepcopy()` del mòdul de còpia us permet crear còpies profundes de qualsevol estructura de dades mutable."
   ]
  },
  {
   "cell_type": "code",
   "execution_count": null,
   "metadata": {
    "id": "PwdOMFJl7F7Y",
    "outputId": "f0e33ecc-3407-45b3-8515-675677a13abd"
   },
   "outputs": [
    {
     "name": "stdout",
     "output_type": "stream",
     "text": [
      "[5, 2, [6, 4]]\n",
      "[1, 2, [3, 4]]\n"
     ]
    }
   ],
   "source": [
    "from copy import deepcopy\n",
    "\n",
    "numlist = [ 1, 2, [3, 4] ]\n",
    "copylist = deepcopy( numlist )\n",
    "\n",
    "numlist[0] = 5\n",
    "numlist[2][0] = 6\n",
    "print( numlist )\n",
    "print( copylist )"
   ]
  },
  {
   "cell_type": "markdown",
   "metadata": {
    "id": "v9plpzru7F7Y"
   },
   "source": [
    "Tingueu en compte que el mòdul `copy` també conté una funció `copy()` que fa còpies superficials. Si us pregunteu per què s'inclou aquesta funció, ja que podeu crear còpies superficials de llistes amb l'ordre `<newlist> = <oldlist>[:]`: el mòdul `copy` no només funciona per a llistes, sinó per a qualsevol estructura de dades mutable. No existeixen dreceres per a totes aquestes estructures de dades per crear còpies superficials."
   ]
  },
  {
   "cell_type": "markdown",
   "metadata": {
    "id": "bkqIvRQy7F7Y"
   },
   "source": [
    "### Passant llistes com a arguments"
   ]
  },
  {
   "cell_type": "markdown",
   "metadata": {
    "id": "AYWt8C4E7F7Z"
   },
   "source": [
    "Quan passeu una llista com a argument a una funció, aquesta és una \"passa per referència\". El paràmetre al qual té accés la funció serà un àlies per a la llista que passeu. Això vol dir que una funció a la qual passeu una llista pot canviar el contingut de la llista.\n",
    "\n",
    "Això és important, així que ho repeteixo: quan passeu una estructura de dades mutable a una funció, això és un \"pas per referència\", és a dir, l'estructura de dades es passa com un àlies i la funció pot canviar el contingut de l'estructura de dades.\n",
    "\n",
    "Heu de saber si una funció a la qual passeu una llista canviarà o no la llista. Si no voleu que la funció canviï la llista, i no sabeu si ho farà, és millor passar una còpia profunda de la llista a la funció."
   ]
  },
  {
   "cell_type": "code",
   "execution_count": null,
   "metadata": {
    "id": "c4ObadJI7F7Z",
    "outputId": "6bd0194e-d73c-4765-cf3e-b30c9fe0e5c8"
   },
   "outputs": [
    {
     "name": "stdout",
     "output_type": "stream",
     "text": [
      "['CHANGE!', 'banana', 'cherry', 'durian']\n"
     ]
    }
   ],
   "source": [
    "def changelist( x ):\n",
    "    if len( x ) > 0:\n",
    "        x[0] = \"CHANGE!\"\n",
    "        \n",
    "fruitlist = [\"apple\", \"banana\", \"cherry\", \"durian\"]\n",
    "changelist( fruitlist )\n",
    "print( fruitlist )"
   ]
  },
  {
   "cell_type": "markdown",
   "metadata": {
    "id": "-4cNzlzK7F7Z"
   },
   "source": [
    "El motiu pel qual una llista es \"passa per referència\" i no \"per valor\" és que tècnicament, cada argument que es passa a una funció s'ha d'emmagatzemar a l'ordinador en un bloc específic de memòria que forma part del processador. Això s'anomena \"pila\" i té una mida força limitada. Atès que les llistes poden ser molt llargues, permetre que un programa col·loqui una llista a la pila provocaria tot tipus d'errors d'execució molestos. A Python, com en la majoria dels altres llenguatges de programació, en la seva majoria només es transmeten tipus de dades bàsics (com ara nombres enters, flotants i cadenes) per valor.\n",
    "\n",
    "Alguns idiomes, com Matlab, prefereixen copiar la llista a la memòria, la qual cosa evita aquest tipus de comportament. Tanmateix, Matlab és gairebé famós per quedar-se sense memòria mentre fa coses relativament senzilles."
   ]
  },
  {
   "cell_type": "markdown",
   "metadata": {
    "id": "9nGMwTXP7F7Z"
   },
   "source": [
    "## Nested lists"
   ]
  },
  {
   "cell_type": "markdown",
   "metadata": {
    "id": "9WiTZdDZ7F7a"
   },
   "source": [
    "Els elements d'una llista poden ser llistes (que també poden contenir llistes, etcètera). Aquesta és una bona manera de crear una matriu en un programa. Per exemple, podeu crear un tauler Tic-Tac-Toe, on un guió (`-`) representa una cel·la buida, de la manera següent:"
   ]
  },
  {
   "cell_type": "code",
   "execution_count": null,
   "metadata": {
    "id": "bMXfnxq37F7a"
   },
   "outputs": [],
   "source": [
    "board = [ [\"-\", \"-\", \"-\"], [\"-\", \"-\", \"-\"], [\"-\", \"-\", \"-\"], [\"-\", \"-\", \"-\"] ]"
   ]
  },
  {
   "cell_type": "markdown",
   "metadata": {
    "id": "mH7kBd247F7a"
   },
   "source": [
    "La primera fila del tauler està representada per `board[0]`, la segona fila per `board[1]` i la tercera fila per `board[2]`. Si voleu accedir a la primera cel·la de la primera fila, és a dir `board[0][0]`, la segona cel·la és `board[0][1]` i la tercera cel·la és `board[0][2] ]`.\n",
    "\n",
    "Per exemple, el codi següent col·loca una \"X\" al mig del tauler i una \"O\" a la cantonada superior dreta. També mostra el tauler d'una manera agradable (amb marcadors per a files i columnes al seu voltant)."
   ]
  },
  {
   "cell_type": "code",
   "execution_count": null,
   "metadata": {
    "colab": {
     "base_uri": "https://localhost:8080/"
    },
    "id": "oPRyvYIb7F7a",
    "outputId": "4e3b4b67-f596-4e01-fda5-02d260190139"
   },
   "outputs": [
    {
     "name": "stdout",
     "output_type": "stream",
     "text": [
      "  1 2 3\n",
      "0 - - - \n",
      "1 - - - \n",
      "2 - - - \n",
      "3 X - - \n"
     ]
    }
   ],
   "source": [
    "def display_board2 (nestlist):\n",
    "    print(\"  1 2 3\")\n",
    "    for x in range (len(nestlist)):\n",
    "        print(x, end= \" \")\n",
    "        for i in range(len(nestlist[x])):\n",
    "            print(nestlist[x][i], end=\" \")\n",
    "        print()\n",
    "\n",
    "board[3][0] = \"X\"\n",
    "        \n",
    "display_board2( board )"
   ]
  },
  {
   "cell_type": "code",
   "execution_count": null,
   "metadata": {
    "colab": {
     "base_uri": "https://localhost:8080/"
    },
    "id": "w8TgYn717F7b",
    "outputId": "02229ba2-1b63-45c9-99ca-be67a0696349"
   },
   "outputs": [
    {
     "name": "stdout",
     "output_type": "stream",
     "text": [
      "  1 2 3\n",
      "1 - - O \n",
      "2 - X - \n",
      "3 - - - \n"
     ]
    }
   ],
   "source": [
    "def display_board( b ):          \n",
    "    print( \"  1 2 3\" )\n",
    "    for i in range(len(b)):\n",
    "        print( i+1, end=\" \")\n",
    "        for n in range(len(b[i])):\n",
    "            print( b[i][n], end=\" \" )\n",
    "        print()\n",
    "           \n",
    "board = [ [\"-\", \"-\", \"-\"], [\"-\", \"-\", \"-\"], [\"-\", \"-\", \"-\"] ]\n",
    "board[1][1] = \"X\"\n",
    "board[0][2] = \"O\"\n",
    "\n",
    "board[0]\n",
    "\n",
    "display_board( board )"
   ]
  },
  {
   "cell_type": "markdown",
   "metadata": {
    "id": "Azh27T-37F7b"
   },
   "source": [
    "---"
   ]
  },
  {
   "cell_type": "markdown",
   "metadata": {
    "id": "gTK1dbBd7F7b"
   },
   "source": [
    "## List casting"
   ]
  },
  {
   "cell_type": "markdown",
   "metadata": {
    "id": "AAs_rTWg7F7b"
   },
   "source": [
    "Podeu escriure emetre una seqüència d'elements a una llista mitjançant la funció `list()`."
   ]
  },
  {
   "cell_type": "code",
   "execution_count": null,
   "metadata": {
    "id": "cNTxRmVD7F7b",
    "outputId": "5d54280e-cfe6-4647-fcfe-0a5b5770226b"
   },
   "outputs": [
    {
     "name": "stdout",
     "output_type": "stream",
     "text": [
      "(1, 2, 3)\n",
      "<class 'tuple'>\n",
      "\n",
      "[1, 2, 3]\n",
      "range(0, 3)\n",
      "<class 'list'>\n"
     ]
    }
   ],
   "source": [
    "t1 = ( 1, 2, 3 )\n",
    "print( t1 )\n",
    "print( type( t1 ) )\n",
    "#print(range(t1))\n",
    "fruitlist = list( t1 )\n",
    "\n",
    "print ()\n",
    "\n",
    "print( fruitlist )\n",
    "print(range(len(fruitlist)))\n",
    "print( type( fruitlist ) )"
   ]
  },
  {
   "cell_type": "markdown",
   "metadata": {
    "id": "DwXH7Mcp7F7c"
   },
   "source": [
    "Això de vegades és necessari, en particular quan teniu un \"iterador\" disponible i voleu utilitzar els elements en format de llista. Un iterador és una funció que genera una seqüència. Un exemple d'iterador que ja he parlat és la funció `range()`. La funció `range()` genera una seqüència de números. Si voleu utilitzar aquests números com a llista, podeu utilitzar l'emissió de llista.\n",
    "\n",
    "A més, tingueu en compte que t1 és una \"tupla\", que és una manera molt flexible (i complexa d'utilitzar) d'emmagatzemar dades semblants a una llista. Si podeu utilitzar una llista, feu servir una llista."
   ]
  },
  {
   "cell_type": "code",
   "execution_count": null,
   "metadata": {
    "id": "UoRE-pU77F7c",
    "outputId": "6a520be4-8993-44fa-ecfe-1e94fa0b22db"
   },
   "outputs": [
    {
     "name": "stdout",
     "output_type": "stream",
     "text": [
      "range(1, 11)\n",
      "\n",
      "[1, 2, 3, 4, 5, 6, 7, 8, 9, 10]\n"
     ]
    }
   ],
   "source": [
    "numlist = range( 1, 11 )\n",
    "print( numlist )\n",
    "\n",
    "print() \n",
    "\n",
    "numlist = list( range( 1, 11 ) )\n",
    "print( numlist )"
   ]
  },
  {
   "cell_type": "code",
   "execution_count": null,
   "metadata": {
    "id": "QAAsBd1y7F7c",
    "outputId": "f51318a1-ea2c-4635-8a02-b58d90bece0c"
   },
   "outputs": [
    {
     "name": "stdout",
     "output_type": "stream",
     "text": [
      "range(1, 10)\n",
      "[1, 2, 3, 4, 5, 6, 7, 8, 9, 10, 11, 12, 13, 14, 15, 16, 17, 18]\n"
     ]
    }
   ],
   "source": [
    "list1 = range(1,10)\n",
    "print(list1)\n",
    "\n",
    "list1 = list(range(1,19))        \n",
    "print(list1)"
   ]
  },
  {
   "cell_type": "markdown",
   "metadata": {
    "id": "AZvuXhkD7F7c"
   },
   "source": [
    "Podeu convertir una cadena en una llista dels seus caràcters utilitzant una llista de llançament a la cadena."
   ]
  },
  {
   "cell_type": "markdown",
   "metadata": {
    "id": "9HLhE7sP7F7d"
   },
   "source": [
    "---"
   ]
  },
  {
   "cell_type": "markdown",
   "metadata": {
    "id": "PmvskB067F7d"
   },
   "source": [
    "## List comprehensions"
   ]
  },
  {
   "cell_type": "markdown",
   "metadata": {
    "id": "sDRG6HSk7F7d"
   },
   "source": [
    "List comprehensions és una manera concisa de crear llistes. Són típics de Python, però no els trobeu en molts altres llenguatges de programació. En realitat no són necessaris, ja que podeu utilitzar funcions per aconseguir el mateix efecte, però com s'utilitzen sovint en exemples (especialment per persones que volen mostrar les seves habilitats de Python per crear declaracions breus que tinguin efectes extensos), però és prudent discutir-los.\n",
    "\n",
    "Suposem que voleu crear una llista formada pels quadrats dels nombres de l'1 al 25. Una funció que crea aquesta llista és:"
   ]
  },
  {
   "cell_type": "code",
   "execution_count": null,
   "metadata": {
    "id": "sOWE20u87F7d",
    "outputId": "a2cd1e1b-b583-4add-dd7c-178726c73c4b"
   },
   "outputs": [
    {
     "name": "stdout",
     "output_type": "stream",
     "text": [
      "[1, 4, 9, 16, 25, 36, 49, 64, 81, 100, 121, 144, 169, 196, 225, 256, 289, 324, 361, 400, 441, 484, 529, 576, 625]\n"
     ]
    }
   ],
   "source": [
    "def squareslist():\n",
    "    squares = []\n",
    "    for i in range( 1, 26 ):\n",
    "        squares.append( i*i )\n",
    "    return squares\n",
    "\n",
    "sl = squareslist()\n",
    "print( sl )"
   ]
  },
  {
   "cell_type": "markdown",
   "metadata": {
    "id": "m8lV5cSP7F7e"
   },
   "source": [
    "A Python, podeu crear aquesta llista amb una sola declaració, és a dir, de la següent manera:"
   ]
  },
  {
   "cell_type": "code",
   "execution_count": null,
   "metadata": {
    "id": "ya6d1SQJ7F7e",
    "outputId": "3a5f6313-12a5-4ce6-ee0e-dc53786fefd8"
   },
   "outputs": [
    {
     "name": "stdout",
     "output_type": "stream",
     "text": [
      "[1, 4, 9, 16, 25, 36, 49, 64, 81, 100, 121, 144, 169, 196, 225, 256, 289, 324, 361, 400, 441, 484, 529, 576, 625]\n"
     ]
    }
   ],
   "source": [
    "sl = [ x*x for x in range( 1, 26 )]\n",
    "print( sl )"
   ]
  },
  {
   "cell_type": "markdown",
   "metadata": {
    "id": "IbnUrJW67F7e"
   },
   "source": [
    "Ara suposem que voleu crear aquesta llista, però voleu deixar de banda (per algun motiu) els quadrats de qualsevol nombre que acabi en 5. Això afegiria almenys dues línies a la funció anterior, però amb la comprensió de la llista encara podeu fer-ho. amb aquesta única línia:"
   ]
  },
  {
   "cell_type": "code",
   "execution_count": null,
   "metadata": {
    "id": "zSqsZCBk7F7e",
    "outputId": "97832950-2cd2-4788-b183-6eaee36b2618"
   },
   "outputs": [
    {
     "name": "stdout",
     "output_type": "stream",
     "text": [
      "[1, 4, 9, 16, 36, 49, 64, 81, 100, 121, 144, 169, 196, 256, 289, 324, 361, 400, 441, 484, 529, 576]\n"
     ]
    }
   ],
   "source": [
    "sl = [ x*x for x in range( 1, 26 ) if x%10 != 5]\n",
    "print( sl )"
   ]
  },
  {
   "cell_type": "markdown",
   "metadata": {
    "id": "XYxhLzSH7F7e"
   },
   "source": [
    "Una list comprehensions consisteix en una expressió entre claudàtors, seguida d'una clàusula \"for\", seguida de zero o més clàusules \"for\" i/o \"si\". El resultat és una llista que conté els elements que resulten de l'avaluació de l'expressió per a la combinació de les clàusules `for` i `if`.\n",
    "\n",
    "Els resultats poden arribar a ser força complexos. Per exemple, aquí hi ha una llista de comprensió que crea una llista de tuples amb tres nombres enters entre 1 i 4, per la qual cosa els tres enters són tots diferents:"
   ]
  },
  {
   "cell_type": "code",
   "execution_count": null,
   "metadata": {
    "id": "3JK7oXdu7F7f",
    "outputId": "c8597cda-fb66-4cf5-8b5c-f45522012aba"
   },
   "outputs": [
    {
     "name": "stdout",
     "output_type": "stream",
     "text": [
      "[(1, 2, 3), (1, 2, 4), (1, 3, 2), (1, 3, 4), (1, 4, 2), (1, 4, 3), (2, 1, 3), (2, 1, 4), (2, 3, 1), (2, 3, 4), (2, 4, 1), (2, 4, 3), (3, 1, 2), (3, 1, 4), (3, 2, 1), (3, 2, 4), (3, 4, 1), (3, 4, 2), (4, 1, 2), (4, 1, 3), (4, 2, 1), (4, 2, 3), (4, 3, 1), (4, 3, 2)]\n"
     ]
    }
   ],
   "source": [
    "triplelist = [ (x,y,z) for x in range( 1, 5 ) for y in range( 1, 5 ) for z in range( 1, 5 ) \n",
    "              if x != y if x != z if y != z]\n",
    "print( triplelist )"
   ]
  },
  {
   "cell_type": "markdown",
   "metadata": {
    "id": "LI8_TxOP7F7f"
   },
   "source": [
    "Si trobeu difícil d'utilitzar list comprehensions, recordeu que no hi ha cap raó per utilitzar-les excepte per mantenir el codi concís, i que mantenir el codi llegible i entenedor és molt més important que mantenir-lo concís. Si trobeu que la comprensió de la llista és més intuïtiva, tingueu en compte que no tothom ho fa!"
   ]
  },
  {
   "cell_type": "markdown",
   "metadata": {
    "id": "vLzO60JF7F7f"
   },
   "source": [
    "---"
   ]
  },
  {
   "cell_type": "markdown",
   "metadata": {
    "id": "wigo_8X07F7g"
   },
   "source": [
    "## El que has après"
   ]
  },
  {
   "cell_type": "markdown",
   "metadata": {
    "id": "aX7oMJUm7F7g"
   },
   "source": [
    "En aquest capítol, heu après:\n",
    "\n",
    "- Lists\n",
    "- Mutability of lists\n",
    "- Using `+` and `*` with lists\n",
    "- List methods `append()`, `extend()`, `insert()`, `remove()`, `pop()`, `index()`, `count()`, `sort()`, and `reverse()`\n",
    "- `del` with lists\n",
    "- Aliasing\n",
    "- The keyword `is`\n",
    "- Creating list copies\n",
    "- Creating deep copies of lists using `deepcopy()`\n",
    "- Using lists as arguments\n",
    "- Nested lists\n",
    "- List casting\n",
    "- List comprehensions"
   ]
  },
  {
   "cell_type": "markdown",
   "metadata": {
    "id": "MOqB6tMK7F7g"
   },
   "source": [
    "-------------"
   ]
  },
  {
   "cell_type": "markdown",
   "metadata": {
    "id": "Q0Okq7xr7F7g"
   },
   "source": [
    "## Exercises"
   ]
  },
  {
   "cell_type": "markdown",
   "metadata": {
    "id": "OWKYUQOo7F7g"
   },
   "source": [
    "### Exercise 12.1"
   ]
  },
  {
   "cell_type": "markdown",
   "metadata": {
    "id": "nGiKPSbl7F7g"
   },
   "source": [
    "A magic 8-ball, when asked a question, provides a random answer from a list. The code below contains a list of possible answers. Create a magic 8-ball program that asks a question, then gives a random answer."
   ]
  },
  {
   "cell_type": "code",
   "execution_count": null,
   "metadata": {
    "id": "qg3qy2fp7F7h",
    "outputId": "615ea64f-c455-4edd-f552-6eb2c9ebd3b7"
   },
   "outputs": [
    {
     "name": "stdout",
     "output_type": "stream",
     "text": [
      "Outlook not so good\n"
     ]
    }
   ],
   "source": [
    "# Magic 8-ball\n",
    "answers = [ \"It is certain\", \"It is decidedly so\", \"Without a doubt\",\n",
    "    \"Yes, definitely\", \"You may rely on it\", \"As I see it, yes\",\n",
    "    \"Most likely\", \"Outlook good\", \"Yes\", \"Signs point to yes\",\n",
    "    \"Reply hazy try again\", \"Ask again later\", \"Better not tell you now\",\n",
    "    \"Cannot predict now\", \"Concentrate and ask again\", \"Don't count on it\",\n",
    "    \"My reply is no\", \"My sources say no\", \"Outlook not so good\",\n",
    "    \"Very doubtful\" ]\n"
   ]
  },
  {
   "cell_type": "markdown",
   "metadata": {
    "id": "iDkcDeQ97F7h"
   },
   "source": [
    "### Exercise 12.2"
   ]
  },
  {
   "cell_type": "markdown",
   "metadata": {
    "id": "4282Fk-Y7F7h"
   },
   "source": [
    "A playing card consists of a suit (\"Hearts\", \"Spades\", \"Clubs\", or \"Diamonds\") and a value (\"Ace\", 2, 3, 4, 5, 6, 7, 8, 9, 10, \"Jack\", \"Queen\", \"King\"). Create a list of all possible playing cards, which is a deck. Then create a function that shuffles the deck, producing a random order."
   ]
  },
  {
   "cell_type": "code",
   "execution_count": null,
   "metadata": {
    "id": "T4egRFJH7F7h",
    "outputId": "d86e9571-d79a-40ed-ad97-8993d690595b"
   },
   "outputs": [
    {
     "name": "stdout",
     "output_type": "stream",
     "text": [
      "['Hearts', 'Ace', 2, 3, 4, 5, 6, 7, 8, 9, 10, 'Jack', 'Queen', 'King', 'Spades', 'Ace', 2, 3, 4, 5, 6, 7, 8, 9, 10, 'Jack', 'Queen', 'King', 'Clubs', 'Ace', 2, 3, 4, 5, 6, 7, 8, 9, 10, 'Jack', 'Queen', 'King', 'Diamonds', 'Ace', 2, 3, 4, 5, 6, 7, 8, 9, 10, 'Jack', 'Queen', 'King']\n"
     ]
    }
   ],
   "source": [
    "# Shuffling a deck.\n",
    "cards = [\"Hearts\", \"Spades\", \"Clubs\", \"Diamonds\"]\n",
    "values = [\"Ace\", 2, 3, 4, 5, 6, 7, 8, 9, 10, \"Jack\", \"Queen\", \"King\"]\n",
    "\n",
    "    "
   ]
  },
  {
   "cell_type": "markdown",
   "metadata": {
    "id": "AH11KoOx7F7h"
   },
   "source": [
    "### Exercise 12.3"
   ]
  },
  {
   "cell_type": "markdown",
   "metadata": {
    "id": "8wRAACGo7F7i"
   },
   "source": [
    "Count how often each letter occurs in a string (case-insensitively). You can ignore every character that is not a letter. Print the letters with their counts, in order from highest count to lowest count."
   ]
  },
  {
   "cell_type": "code",
   "execution_count": null,
   "metadata": {
    "id": "fuz0bxdf7F7i"
   },
   "outputs": [],
   "source": [
    "text = \"maria\""
   ]
  },
  {
   "cell_type": "markdown",
   "metadata": {
    "id": "HldOInXX7F7i"
   },
   "source": [
    "### Exercise 12.4"
   ]
  },
  {
   "cell_type": "markdown",
   "metadata": {
    "id": "PkIq9md07F7i"
   },
   "source": [
    "The sieve of Eratosthenes is a method to find all prime numbers between 1 and a given number using a list. This works as follows: Fill the list with the sequence of numbers from 1 to the highest number. Set the value of 1 to zero, as 1 is not prime. Now loop over the list. Find the next number on the list that is not zero, which, at the start, is the number 2. Now set all multiples of this number to zero. Then find the next number on the list that is not zero, which is 3. Set all multiples of this number to zero. Then the next number, which is 5 (because 4 has already been set to zero), and do the same thing again. Process all the numbers of the list in this way. When you have finished, the only numbers left on the list are primes. Use this method to determine all the primes between 1 and 100."
   ]
  },
  {
   "cell_type": "code",
   "execution_count": null,
   "metadata": {
    "id": "F51UiSEO7F7i"
   },
   "outputs": [],
   "source": [
    "# Eratosthenes.\n"
   ]
  }
 ],
 "metadata": {
  "colab": {
   "provenance": []
  },
  "kernelspec": {
   "display_name": "Python 3 (ipykernel)",
   "language": "python",
   "name": "python3"
  },
  "language_info": {
   "codemirror_mode": {
    "name": "ipython",
    "version": 3
   },
   "file_extension": ".py",
   "mimetype": "text/x-python",
   "name": "python",
   "nbconvert_exporter": "python",
   "pygments_lexer": "ipython3",
   "version": "3.9.13"
  }
 },
 "nbformat": 4,
 "nbformat_minor": 1
}
