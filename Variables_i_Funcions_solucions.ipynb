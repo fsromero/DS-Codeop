{
 "cells": [
  {
   "cell_type": "markdown",
   "metadata": {},
   "source": [
    "# Exercici: variables i funcions"
   ]
  },
  {
   "cell_type": "markdown",
   "metadata": {},
   "source": [
    "L'ús de print() imprimirà qualsevol cosa\n",
    "entre els paràntesis al teu termianl.\n",
    "Canvia la frase que s'imprimeix a continuació,\n",
    "deseu i, a continuació, executeu l'script per veure els vostres canvis.\n",
    "Després de confirmar que funciona, comenta-ho."
   ]
  },
  {
   "cell_type": "code",
   "execution_count": 39,
   "metadata": {
    "scrolled": false
   },
   "outputs": [
    {
     "name": "stdout",
     "output_type": "stream",
     "text": [
      "bon dia companyes!\n"
     ]
    }
   ],
   "source": [
    "print('bon dia companyes!')"
   ]
  },
  {
   "cell_type": "markdown",
   "metadata": {},
   "source": [
    "## Variables"
   ]
  },
  {
   "cell_type": "markdown",
   "metadata": {},
   "source": [
    "\n",
    "#### 1)\n",
    "\n",
    "Utilitzant la línia print() de sota,\n",
    "a continuació, imprimiu el número 10, utilitzant els operadors\n",
    "(+) i (*).\n",
    "Multiplica i suma qualsevol combinació de nombres\n",
    "junts per obtenir el número 10.\n"
   ]
  },
  {
   "cell_type": "code",
   "execution_count": 42,
   "metadata": {},
   "outputs": [
    {
     "name": "stdout",
     "output_type": "stream",
     "text": [
      "10.0\n"
     ]
    }
   ],
   "source": [
    "print((24 - 4)/2)"
   ]
  },
  {
   "cell_type": "markdown",
   "metadata": {},
   "source": [
    "#### 2)\n",
    "print s'utilitza sovint per com debugger.\n",
    "De fet, podeu afegir múltiples\n",
    "arguments dins del print (que són\n",
    "separats per una coma). Afegiu-ho tot\n",
    "a continuació per imprimir:\n",
    "\n",
    "\n",
    "3 + 4, \"hauria de ser igual a 7\"\n"
   ]
  },
  {
   "cell_type": "code",
   "execution_count": 51,
   "metadata": {
    "scrolled": true
   },
   "outputs": [
    {
     "name": "stdout",
     "output_type": "stream",
     "text": [
      "7 hauria de ser igual a 7\n"
     ]
    }
   ],
   "source": [
    "print(3+4, \"hauria de ser igual a 7\")"
   ]
  },
  {
   "cell_type": "markdown",
   "metadata": {},
   "source": [
    "#### 3)\n",
    "\n",
    "Afegiu dues strings juntes per\n",
    "imprimir el vostre nom i cognom!"
   ]
  },
  {
   "cell_type": "code",
   "execution_count": 54,
   "metadata": {},
   "outputs": [
    {
     "name": "stdout",
     "output_type": "stream",
     "text": [
      "Guillem Guigó\n"
     ]
    }
   ],
   "source": [
    "nom = \"Guillem\"\n",
    "cognom = \"Guigó\"\n",
    "\n",
    "print(nom + ' ' + cognom)"
   ]
  },
  {
   "cell_type": "markdown",
   "metadata": {},
   "source": [
    "#### 4)\n",
    "Fer servir el mòdul per obtenir el residu  d'un nombre dividit per 2 et pot servir per determinar si aquest nombre és parell o senar. Prova-ho a continuació!"
   ]
  },
  {
   "cell_type": "code",
   "execution_count": 3,
   "metadata": {},
   "outputs": [
    {
     "name": "stdout",
     "output_type": "stream",
     "text": [
      "el meu nombre és senar\n",
      "0\n"
     ]
    }
   ],
   "source": [
    "my_num = 7\n",
    "\n",
    "if my_num % 2 == 0:\n",
    "    print('el meu nombre és parell')\n",
    "else:\n",
    "    print('el meu nombre és senar')\n",
    "    \n",
    "print(78%2)"
   ]
  },
  {
   "cell_type": "markdown",
   "metadata": {},
   "source": [
    "\n",
    "#### 5)\n",
    "Canvieu la ubicació de la Mia reassignant la variable ubicacio_actual\n",
    "amb una nova string! Per fer-ho, tindreu\n",
    "que afegir una nova línia de codi (no n'elimineu cap linia\n",
    "de codi escrit). Nota: també hauràs de deixar de comentar\n",
    "la impressió per imprimir la ubicació."
   ]
  },
  {
   "cell_type": "code",
   "execution_count": 61,
   "metadata": {},
   "outputs": [],
   "source": [
    "nom = 'Mia'\n",
    "ubicacio_actual = 'school'\n",
    "ubicacio_actual = 'restaurant'"
   ]
  },
  {
   "cell_type": "markdown",
   "metadata": {},
   "source": [
    "\n",
    "#### 6)\n",
    "Creeu variables perquè el missatge s'imprimeixi\n",
    "a la pantalla!\n"
   ]
  },
  {
   "cell_type": "code",
   "execution_count": 62,
   "metadata": {},
   "outputs": [
    {
     "name": "stdout",
     "output_type": "stream",
     "text": [
      "Mia va anar al restaurant a menjar ganxitos\n"
     ]
    }
   ],
   "source": [
    "persona = 'Mia'\n",
    "place = 'restaurant'\n",
    "food = 'ganxitos'\n",
    "\n",
    "print(persona, 'va anar al', place, 'a menjar', food)"
   ]
  },
  {
   "cell_type": "markdown",
   "metadata": {},
   "source": [
    "\n",
    "#### 7)\n",
    "Ara, reassigneu totes les variables anteriors de manera que\n",
    "s'imprimeix un missatge nou a la pantalla!\n"
   ]
  },
  {
   "cell_type": "code",
   "execution_count": 63,
   "metadata": {},
   "outputs": [
    {
     "name": "stdout",
     "output_type": "stream",
     "text": [
      "Elsa va anar al cinema a menjar fuet\n"
     ]
    }
   ],
   "source": [
    "persona = 'Elsa'\n",
    "place = 'cinema'\n",
    "food = 'fuet'\n",
    "\n",
    "print(persona, 'va anar al', place, 'a menjar', food)"
   ]
  },
  {
   "cell_type": "markdown",
   "metadata": {},
   "source": [
    "#### 8)\n",
    "Hi ha dues maneres d'augmentar\n",
    "nombre emmagatzemat a la variable 'compte'.\n",
    "Quina és la resposta per executar les 4 línies següents?\n",
    "Pista: cerca què fa += si no està clar!"
   ]
  },
  {
   "cell_type": "code",
   "execution_count": 66,
   "metadata": {},
   "outputs": [
    {
     "name": "stdout",
     "output_type": "stream",
     "text": [
      "aquí count és  0\n",
      "aquí count és  1\n",
      "aquí count és  2\n",
      "aquí count és  4\n"
     ]
    }
   ],
   "source": [
    "count = 0\n",
    "print('aquí count és ', count)\n",
    "count = count + 1\n",
    "print('aquí count és ', count)\n",
    "count += 1\n",
    "print('aquí count és ', count)\n",
    "count += count\n",
    "print('aquí count és ', count)"
   ]
  },
  {
   "cell_type": "markdown",
   "metadata": {},
   "source": [
    "\n",
    "#### 9)\n",
    "Intercanvi de temps! Al següent codi, volem intercanviar\n",
    "els valors s'emmagatzemen tant a 'a' com a 'b'.\n",
    "Aquest codi escrit a continuació no funciona. Per dur a terme\n",
    "aquesta tasca, haureu de crear-ne una variable addicional\n",
    "(podeu anomenar-la 'temp') per emmagatzemar-la\n",
    "\"a\" o \"b\" mentre intercanvieu. Dibuixa-ho si\n",
    "no estàs segur!\n"
   ]
  },
  {
   "cell_type": "code",
   "execution_count": 5,
   "metadata": {},
   "outputs": [],
   "source": [
    "a = 1\n",
    "b = 2"
   ]
  },
  {
   "cell_type": "code",
   "execution_count": 6,
   "metadata": {},
   "outputs": [
    {
     "name": "stdout",
     "output_type": "stream",
     "text": [
      "ABANS \"a\" és: 1 i \"b\" és:  2\n"
     ]
    }
   ],
   "source": [
    "print('ABANS \"a\" és:', a, 'i \"b\" és: ', b)\n"
   ]
  },
  {
   "cell_type": "code",
   "execution_count": 88,
   "metadata": {},
   "outputs": [],
   "source": [
    "#EL VOSTRE CODI AQUÍ\n",
    "c = a\n",
    "a = b\n",
    "b = c"
   ]
  },
  {
   "cell_type": "code",
   "execution_count": 89,
   "metadata": {},
   "outputs": [
    {
     "name": "stdout",
     "output_type": "stream",
     "text": [
      "DESPRES \"a\" és: 2 (ha de ser 2) - i \"b\" és: 1 (ha de ser 1)\n"
     ]
    }
   ],
   "source": [
    "print('DESPRES \"a\" és:', a, '(ha de ser 2) - i \"b\" és:', b, '(ha de ser 1)')"
   ]
  },
  {
   "cell_type": "markdown",
   "metadata": {},
   "source": [
    "#### 10)\n",
    "Què avaluarà això?\n",
    "Intenta fer que s'avaluï com a cert.\n",
    "Intenta fer-ho de diverses maneres!\n",
    "(suggeriment: proveu d'\"emetre\" el número\n",
    "a un string, o viceversa!)"
   ]
  },
  {
   "cell_type": "code",
   "execution_count": 7,
   "metadata": {},
   "outputs": [
    {
     "name": "stdout",
     "output_type": "stream",
     "text": [
      "True should be True\n",
      "True should be True\n",
      "True should be True\n",
      "True should be True\n",
      "True should be True\n"
     ]
    }
   ],
   "source": [
    "print(3 == float('3'), 'should be True')\n",
    "print(3 == 4-1, 'should be True')\n",
    "print('3' == str(3), 'should be True')\n",
    "print(3 == int('3'), 'should be True')\n",
    "print(str(4-1) == '3', 'should be True')"
   ]
  },
  {
   "cell_type": "markdown",
   "metadata": {},
   "source": [
    "## Functions"
   ]
  },
  {
   "cell_type": "markdown",
   "metadata": {},
   "source": [
    "\n",
    "\n",
    "#### 1)\n",
    "Creeu una funció anomenada\n",
    "\"triple\" que agafa un\n",
    "paràmetre x i retorns\n",
    "el valor de x multiplicat\n",
    "per tres.\n"
   ]
  },
  {
   "cell_type": "code",
   "execution_count": 11,
   "metadata": {},
   "outputs": [
    {
     "data": {
      "text/plain": [
       "7.5"
      ]
     },
     "execution_count": 11,
     "metadata": {},
     "output_type": "execute_result"
    }
   ],
   "source": [
    "def triple(x):\n",
    "    return 3 * x\n",
    "\n",
    "triple(2.5)"
   ]
  },
  {
   "cell_type": "markdown",
   "metadata": {},
   "source": [
    "\n",
    "\n",
    "\n",
    "#### 2)\n",
    "Creeu una funció anomenada \"resta\" això\n",
    "agafa dos paràmetres i retorna el resultat de\n",
    "el segon valor restat del primer.\n"
   ]
  },
  {
   "cell_type": "code",
   "execution_count": 97,
   "metadata": {},
   "outputs": [
    {
     "name": "stdout",
     "output_type": "stream",
     "text": [
      "-1\n"
     ]
    }
   ],
   "source": [
    "def resta(first_num, second_num):\n",
    "    return first_num - second_num\n",
    "\n",
    "my_subtraction = resta(3,4)\n",
    "print(my_subtraction)"
   ]
  },
  {
   "cell_type": "markdown",
   "metadata": {},
   "source": [
    "\n",
    "\n",
    "\n",
    "\n",
    "#### 3)\n",
    "Creeu una funció anomenada \"resta_segura\" que\n",
    "agafa dos paràmetres i retorna el resultat de\n",
    "el segon valor restat del primer.\n",
    "Si no es poden restar els valors, retorna None.\n"
   ]
  },
  {
   "cell_type": "code",
   "execution_count": 108,
   "metadata": {},
   "outputs": [
    {
     "name": "stdout",
     "output_type": "stream",
     "text": [
      "-3.5\n",
      "3\n"
     ]
    }
   ],
   "source": [
    "def resta_segura(first_num, second_num):\n",
    "    if not isinstance(first_num, (int, float)) or not isinstance(second_num, (int, float)):\n",
    "        raise TypeError('Les dues variables han de ser nombres!')\n",
    "    return first_num - second_num\n",
    "\n",
    "def resta_segura_2(first_num, second_num):\n",
    "    try: \n",
    "        return first_num - second_num\n",
    "    except:\n",
    "        raise TypeError('Les dues variables han de ser nombres!')\n",
    "        \n",
    "my_subtraction = resta_segura(1,4.5)\n",
    "print(my_subtraction)\n",
    "\n",
    "my_other_subtraction = resta_segura_2(3,0)\n",
    "print(my_other_subtraction)"
   ]
  },
  {
   "cell_type": "markdown",
   "metadata": {},
   "source": [
    "#### 4)\n",
    "Create a function named \"greet_person\". It should\n",
    "accept a string as an argument and return that\n",
    "string as part of a longer sentence that says hello:\n",
    "i.e. \"Sophia\" --> \"Hello, Sophia!\"\n",
    "If the function is called with an argument that is\n",
    "not a string, it should return \"Please provide a name.\"\n",
    "i.e. 5 --> \"Please provide a name.\"\n",
    "\n",
    "Creeu una funció anomenada \"saluda_persona\". Hauria\n",
    "accepta una cadena com a argument i retorna-la\n",
    "cadena com a part d'una frase més llarga que diu hola:\n",
    "és a dir, \"Sophia\" --> \"Hola, Sophia!\"\n",
    "Si la funció es crida amb un argument que és\n",
    "no és una cadena, hauria de retornar \"Si us plau, proporcioneu un nom\".\n",
    "és a dir, 5 --> \"Si us plau, proporcioneu un nom\"."
   ]
  },
  {
   "cell_type": "code",
   "execution_count": 110,
   "metadata": {},
   "outputs": [
    {
     "name": "stdout",
     "output_type": "stream",
     "text": [
      "Si us plau, proporcioneu un nom\n"
     ]
    }
   ],
   "source": [
    "def saluda_persona(persona):\n",
    "    try: \n",
    "        missatge = \"Hola, \" + persona + '!'\n",
    "        return missatge\n",
    "    except:\n",
    "        return \"Si us plau, proporcioneu un nom\"\n",
    "    \n",
    "salutacio = saluda_persona(5)\n",
    "print(salutacio)"
   ]
  }
 ],
 "metadata": {
  "kernelspec": {
   "display_name": "Python 3 (ipykernel)",
   "language": "python",
   "name": "python3"
  },
  "language_info": {
   "codemirror_mode": {
    "name": "ipython",
    "version": 3
   },
   "file_extension": ".py",
   "mimetype": "text/x-python",
   "name": "python",
   "nbconvert_exporter": "python",
   "pygments_lexer": "ipython3",
   "version": "3.9.13"
  }
 },
 "nbformat": 4,
 "nbformat_minor": 4
}
